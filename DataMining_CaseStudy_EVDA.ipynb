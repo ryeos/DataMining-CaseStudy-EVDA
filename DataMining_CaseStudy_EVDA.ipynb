{
  "cells": [
    {
      "cell_type": "markdown",
      "source": [
        "##**Kelompok 4**\n",
        "\n",
        "Jovina Nareswari H (2106708223)\n",
        "\n",
        "Rafly Witjaksana Hartantyo (2106651572)\n",
        "\n",
        "Ricky (2106724952)\n",
        "\n",
        "Rifqah Majidah A. Nasution (2106725122)\n",
        "\n",
        "Titania Puteri Samudera (2106654246)"
      ],
      "metadata": {
        "id": "B1Wf5IpNZ_eF"
      }
    },
    {
      "cell_type": "markdown",
      "source": [
        "##Kasus:\n",
        "- Anda adalah seorang Data Analyst yang bekerja di PT Ray Pink Property Indonesia (RPPI).\n",
        "- RPPI adalah perusahaan property yang berdiri sejak 11 tahun yang lalu.\n",
        "- RPPI memliki kantor cabang di 7 propinsi di Indonesia dan jumlahnya terus bertambah.\n",
        "- Valuasi RPPI tahun ini mencapai Rp 7 Trilyun, meningkat 7% dari tahun sebelumnya.\n",
        "- Bidang usaha RPPI adalah investasi dan jual-beli property secara umum, termasuk bekerja sama dengan developer perumahan.\n",
        "- Data Engineer (DE)/Database Administrator (DBA) RPPI berhasil mengumpulkan data rumah-rumah yang dijual di beberapa kota di Indonesia.\n",
        "- Sebagai Data Analyst anda akan hadir dan melakukan presentasi pada rapat direksi untuk memberikan insight dari data ke upper management (C-Level, senior managers, dan komisaris perusahaan).\n",
        "- Di studi kasus ini anda mempersiapkan \"bahan presentasi\" (cukup ipynb saja) dengan cara melakukan EDA pada data yang diterima dari DE/DBA.\n",
        "\n",
        "##Petunjuk:\n",
        "- Di studi kasus pertama, anda mendapat bantuan keterangan dari manajemen. Setelah berdiskusi over lunch dengan beberapa manager senior, anda mendengar bahwa mereka ingin mengetahui:\n",
        "- Kualitas data yang dimiliki perusahaan.\n",
        "- Apakah ada saran perbaikan data ke DE/DBA perusahaan agar RPPI menjadi data driven company yang unggul.\n",
        "- Dari data yang ada, apakah ada kecenderungan rumah disuatu kota lebih mahal/murah dibandingkan kota lain?\n",
        "- Dari data yang ada, apakah bisa dibuat rekomendasi sebaiknya RPPI membuat kantor cabang berikutnya di kota mana? Mengapa? (Asumsikan - RPPI belum memiliki cabang di kota-kota yang disebutkan di data).\n",
        "- Rumah dengan karakteristik seperti apa yang paling banyak dijual?\n",
        "- Jika RPPI ingin melakukan investasi (max) Rp. 25 Milyar minggu besok, apakah dari data anda dapat memberikan rekomendasi rumah mana saja yang akan berpotensi menghasilkan keuntungan bagi perusahaan?\n",
        "- Dan yang terpenting, informasi berharga apa lagi yang bisa anda dapatkan dari data?\n",
        "\n",
        "##Catatan:\n",
        "- Anda diperbolehkan melakukan augmentasi data (menambah data eksternal).\n",
        "- Yakinkan menuliskan asumsi anda atas kesimpulan dan rekomendasi yang diberikan ke perusahaan.\n",
        "- Yakinkan kesimpulan dan rekomendasi ditujukan ke perusahaan (bukan dosen mata kuliah).\n",
        "- Anda boleh menggunakan software visualisasi apapun, misal excel, Ms Word, Photoshop, dsb.\n",
        "- Yakinkan file images dapat dibuka (nampak) saat ipynb di Jupyter notebook anda dibuka di Google Colab. Saran: Gunakan GitHub lalu run di Google Colab.\n",
        "- Tips: hati-hati dalam melakukan penamaan file, Google colab case sensitive.\n",
        "- Interpretasi diberikan menggunakan cell markdown tepat dibawah output code yang relevan diatasnya.\n",
        "- Debugging - code error (anda diharapkan melakukan code troubleshooting sendiri via mesin pencari)\n",
        "- Pada studi kasus ini anda hanya diperkenankan untuk melakukan EDA (bukan modeling seperti prediksi/forecasting)"
      ],
      "metadata": {
        "id": "90bdMqNoo_nR"
      }
    },
    {
      "cell_type": "markdown",
      "metadata": {
        "id": "th0wbmSoV_XZ"
      },
      "source": [
        "##Preprocessing"
      ]
    },
    {
      "cell_type": "code",
      "execution_count": null,
      "metadata": {
        "id": "KD4PmjS7YJ_2"
      },
      "outputs": [],
      "source": [
        "import numpy as np\n",
        "import pandas as pd\n",
        "import seaborn as sns\n",
        "import regex as re\n",
        "import matplotlib.pyplot as plt"
      ]
    },
    {
      "cell_type": "code",
      "execution_count": null,
      "metadata": {
        "id": "PKWV3U34YOEL"
      },
      "outputs": [],
      "source": [
        "from google.colab import drive\n",
        "\n",
        "drive.mount(\"/content/gdrive\")"
      ]
    },
    {
      "cell_type": "code",
      "execution_count": null,
      "metadata": {
        "id": "DC4hkAEcboF5"
      },
      "outputs": [],
      "source": [
        "df_1 = pd.read_csv(\"/content/gdrive/MyDrive/Data Mining Kel. 4/Copy of Data-Property-Indonesia-Ganjil-2023.xlsx - Bogor.csv\")\n",
        "df_2 = pd.read_csv(\"/content/gdrive/MyDrive/Data Mining Kel. 4/Copy of Data-Property-Indonesia-Ganjil-2023.xlsx - Kalimantan (All).csv\")\n",
        "df_3 = pd.read_csv(\"/content/gdrive/MyDrive/Data Mining Kel. 4/Copy of Data-Property-Indonesia-Ganjil-2023.xlsx - Lampung - Sumatera selatan.csv\")\n",
        "df_4 = pd.read_csv(\"/content/gdrive/MyDrive/Data Mining Kel. 4/Data-Property-Indonesia-Ganjil-2023.xlsx - Bali.csv\")\n",
        "df_5 = pd.read_csv(\"/content/gdrive/MyDrive/Data Mining Kel. 4/Data-Property-Indonesia-Ganjil-2023.xlsx - Bandung.csv\")\n",
        "df_6 = pd.read_csv(\"/content/gdrive/MyDrive/Data Mining Kel. 4/Data-Property-Indonesia-Ganjil-2023.xlsx - Bekasi.csv\")\n",
        "df_7 = pd.read_csv(\"/content/gdrive/MyDrive/Data Mining Kel. 4/Data-Property-Indonesia-Ganjil-2023.xlsx - Depok.csv\")\n",
        "df_8 = pd.read_csv(\"/content/gdrive/MyDrive/Data Mining Kel. 4/Data-Property-Indonesia-Ganjil-2023.xlsx - Jakarta.csv\")\n",
        "df_9 = pd.read_csv(\"/content/gdrive/MyDrive/Data Mining Kel. 4/Data-Property-Indonesia-Ganjil-2023.xlsx - Medan.csv\")\n",
        "df_10 = pd.read_csv(\"/content/gdrive/MyDrive/Data Mining Kel. 4/Data-Property-Indonesia-Ganjil-2023.xlsx - Padang - Palembang.csv\")\n",
        "df_11 = pd.read_csv(\"/content/gdrive/MyDrive/Data Mining Kel. 4/Data-Property-Indonesia-Ganjil-2023.xlsx - Semarang.csv\")\n",
        "df_12 = pd.read_csv(\"/content/gdrive/MyDrive/Data Mining Kel. 4/Data-Property-Indonesia-Ganjil-2023.xlsx - Surabaya.csv\")\n",
        "df_13 = pd.read_csv(\"/content/gdrive/MyDrive/Data Mining Kel. 4/Data-Property-Indonesia-Ganjil-2023.xlsx - Tangerang.csv\")\n",
        "df_14 = pd.read_csv(\"/content/gdrive/MyDrive/Data Mining Kel. 4/Data-Property-Indonesia-Ganjil-2023.xlsx - Yogyakarta.csv\")"
      ]
    },
    {
      "cell_type": "code",
      "execution_count": null,
      "metadata": {
        "id": "4nRbm6YLb6ai"
      },
      "outputs": [],
      "source": [
        "df_1['Wilayah'] = \"Bogor\"\n",
        "df_2['Wilayah'] = \"Kalimantan\"\n",
        "df_3['Wilayah'] = \"Lampung - Sumatera selatan\"\n",
        "df_4['Wilayah'] = \"Bali\"\n",
        "df_5['Wilayah'] = \"Bandung\"\n",
        "df_6['Wilayah'] = \"Bekasi\"\n",
        "df_7['Wilayah'] = \"Depok\"\n",
        "df_8['Wilayah'] = \"Jakarta\"\n",
        "df_9['Wilayah'] = \"Medan\"\n",
        "df_10['Wilayah'] = \"Padang - Palembang\"\n",
        "df_11['Wilayah'] = \"Semarang\"\n",
        "df_12['Wilayah'] = \"Surabaya\"\n",
        "df_13['Wilayah'] = \"Tangerang\"\n",
        "df_14['Wilayah'] = \"Yogyakarta\""
      ]
    },
    {
      "cell_type": "code",
      "execution_count": null,
      "metadata": {
        "id": "59hqp1hCdl6Z"
      },
      "outputs": [],
      "source": [
        "df_1.columns = df_1.columns.str.lower()\n",
        "df_2.columns = df_2.columns.str.lower()\n",
        "df_3.columns = df_3.columns.str.lower()\n",
        "df_4.columns = df_4.columns.str.lower()\n",
        "df_5.columns = df_5.columns.str.lower()\n",
        "df_6.columns = df_6.columns.str.lower()\n",
        "df_7.columns = df_7.columns.str.lower()\n",
        "df_8.columns = df_8.columns.str.lower()\n",
        "df_9.columns = df_9.columns.str.lower()\n",
        "df_10.columns = df_10.columns.str.lower()\n",
        "df_11.columns = df_11.columns.str.lower()\n",
        "df_12.columns = df_12.columns.str.lower()\n",
        "df_13.columns = df_13.columns.str.lower()\n",
        "df_14.columns = df_14.columns.str.lower()"
      ]
    },
    {
      "cell_type": "code",
      "execution_count": null,
      "metadata": {
        "id": "RqGQnjdYeOHc"
      },
      "outputs": [],
      "source": [
        "frames = [df_1, df_2, df_3,df_4,df_5,df_6,df_7]\n",
        "df_merged = pd.concat(frames)\n",
        "frames = [df_merged,df_8,df_9,df_10,df_11,df_12,df_13,df_14]\n",
        "df_merged = pd.concat(frames).reset_index(drop=True)"
      ]
    },
    {
      "cell_type": "markdown",
      "metadata": {
        "id": "BW8_rP4eWKXN"
      },
      "source": [
        "Menggabungkan dataframe menjadi satu dataframe yang memuat data dari seluruh kota"
      ]
    },
    {
      "cell_type": "code",
      "execution_count": null,
      "metadata": {
        "colab": {
          "base_uri": "https://localhost:8080/",
          "height": 1000
        },
        "id": "VyR1_rdveaTs",
        "outputId": "455343ef-4b0c-4b8c-b13c-84dbf54f5ed6"
      },
      "outputs": [
        {
          "data": {
            "text/html": [
              "\n",
              "  <div id=\"df-d057016f-79bf-48e3-979a-d87d533d3852\" class=\"colab-df-container\">\n",
              "    <div>\n",
              "<style scoped>\n",
              "    .dataframe tbody tr th:only-of-type {\n",
              "        vertical-align: middle;\n",
              "    }\n",
              "\n",
              "    .dataframe tbody tr th {\n",
              "        vertical-align: top;\n",
              "    }\n",
              "\n",
              "    .dataframe thead th {\n",
              "        text-align: right;\n",
              "    }\n",
              "</style>\n",
              "<table border=\"1\" class=\"dataframe\">\n",
              "  <thead>\n",
              "    <tr style=\"text-align: right;\">\n",
              "      <th></th>\n",
              "      <th>created_at</th>\n",
              "      <th>lt</th>\n",
              "      <th>lb</th>\n",
              "      <th>kt</th>\n",
              "      <th>km</th>\n",
              "      <th>garasi</th>\n",
              "      <th>carport</th>\n",
              "      <th>lokasi</th>\n",
              "      <th>sertifikat</th>\n",
              "      <th>listrik</th>\n",
              "      <th>...</th>\n",
              "      <th>url</th>\n",
              "      <th>deskripsi</th>\n",
              "      <th>unnamed: 14</th>\n",
              "      <th>wilayah</th>\n",
              "      <th>deskripsi</th>\n",
              "      <th>harga (rp)</th>\n",
              "      <th>lt (m2)</th>\n",
              "      <th>lb (m2)</th>\n",
              "      <th>lt(m²)</th>\n",
              "      <th>lb(m²)</th>\n",
              "    </tr>\n",
              "  </thead>\n",
              "  <tbody>\n",
              "    <tr>\n",
              "      <th>0</th>\n",
              "      <td>03-12-2021</td>\n",
              "      <td>75.0</td>\n",
              "      <td>38.0</td>\n",
              "      <td>2.0</td>\n",
              "      <td>1.0</td>\n",
              "      <td>1.0</td>\n",
              "      <td>1.0</td>\n",
              "      <td>Bojonggede</td>\n",
              "      <td>SHM</td>\n",
              "      <td>1300</td>\n",
              "      <td>...</td>\n",
              "      <td>https://rumahdijual.com/bekasi/10799791-rumah-...</td>\n",
              "      <td>Dekat tol jati warna, dekat sutle busway, deka...</td>\n",
              "      <td>NaN</td>\n",
              "      <td>Bogor</td>\n",
              "      <td>NaN</td>\n",
              "      <td>NaN</td>\n",
              "      <td>NaN</td>\n",
              "      <td>NaN</td>\n",
              "      <td>NaN</td>\n",
              "      <td>NaN</td>\n",
              "    </tr>\n",
              "    <tr>\n",
              "      <th>1</th>\n",
              "      <td>06-12-2021</td>\n",
              "      <td>60.0</td>\n",
              "      <td>40.0</td>\n",
              "      <td>1.0</td>\n",
              "      <td>1.0</td>\n",
              "      <td>0.0</td>\n",
              "      <td>1.0</td>\n",
              "      <td>Babakan Madang</td>\n",
              "      <td>SHM</td>\n",
              "      <td>2200</td>\n",
              "      <td>...</td>\n",
              "      <td>https://www.rumah123.com/perumahan-baru/proper...</td>\n",
              "      <td>Destinasi menarik di kawasan Babakan Madang; G...</td>\n",
              "      <td>NaN</td>\n",
              "      <td>Bogor</td>\n",
              "      <td>NaN</td>\n",
              "      <td>NaN</td>\n",
              "      <td>NaN</td>\n",
              "      <td>NaN</td>\n",
              "      <td>NaN</td>\n",
              "      <td>NaN</td>\n",
              "    </tr>\n",
              "    <tr>\n",
              "      <th>2</th>\n",
              "      <td>06-12-2021</td>\n",
              "      <td>60.0</td>\n",
              "      <td>50.0</td>\n",
              "      <td>2.0</td>\n",
              "      <td>2.0</td>\n",
              "      <td>0.0</td>\n",
              "      <td>1.0</td>\n",
              "      <td>Babakan Madang</td>\n",
              "      <td>SHM</td>\n",
              "      <td>2200</td>\n",
              "      <td>...</td>\n",
              "      <td>https://www.rumah123.com/perumahan-baru/proper...</td>\n",
              "      <td>Destinasi menarik di kawasan Babakan Madang; G...</td>\n",
              "      <td>NaN</td>\n",
              "      <td>Bogor</td>\n",
              "      <td>NaN</td>\n",
              "      <td>NaN</td>\n",
              "      <td>NaN</td>\n",
              "      <td>NaN</td>\n",
              "      <td>NaN</td>\n",
              "      <td>NaN</td>\n",
              "    </tr>\n",
              "    <tr>\n",
              "      <th>3</th>\n",
              "      <td>06-12-2021</td>\n",
              "      <td>60.0</td>\n",
              "      <td>70.0</td>\n",
              "      <td>3.0</td>\n",
              "      <td>2.0</td>\n",
              "      <td>0.0</td>\n",
              "      <td>1.0</td>\n",
              "      <td>Babakan Madang</td>\n",
              "      <td>SHM</td>\n",
              "      <td>2200</td>\n",
              "      <td>...</td>\n",
              "      <td>https://www.rumah123.com/perumahan-baru/proper...</td>\n",
              "      <td>Destinasi menarik di kawasan Babakan Madang; G...</td>\n",
              "      <td>NaN</td>\n",
              "      <td>Bogor</td>\n",
              "      <td>NaN</td>\n",
              "      <td>NaN</td>\n",
              "      <td>NaN</td>\n",
              "      <td>NaN</td>\n",
              "      <td>NaN</td>\n",
              "      <td>NaN</td>\n",
              "    </tr>\n",
              "    <tr>\n",
              "      <th>4</th>\n",
              "      <td>06-12-2021</td>\n",
              "      <td>90.0</td>\n",
              "      <td>60.0</td>\n",
              "      <td>3.0</td>\n",
              "      <td>2.0</td>\n",
              "      <td>0.0</td>\n",
              "      <td>2.0</td>\n",
              "      <td>Babakan Madang</td>\n",
              "      <td>SHM</td>\n",
              "      <td>2200</td>\n",
              "      <td>...</td>\n",
              "      <td>https://www.rumah123.com/perumahan-baru/proper...</td>\n",
              "      <td>Destinasi menarik di kawasan Babakan Madang; G...</td>\n",
              "      <td>NaN</td>\n",
              "      <td>Bogor</td>\n",
              "      <td>NaN</td>\n",
              "      <td>NaN</td>\n",
              "      <td>NaN</td>\n",
              "      <td>NaN</td>\n",
              "      <td>NaN</td>\n",
              "      <td>NaN</td>\n",
              "    </tr>\n",
              "    <tr>\n",
              "      <th>...</th>\n",
              "      <td>...</td>\n",
              "      <td>...</td>\n",
              "      <td>...</td>\n",
              "      <td>...</td>\n",
              "      <td>...</td>\n",
              "      <td>...</td>\n",
              "      <td>...</td>\n",
              "      <td>...</td>\n",
              "      <td>...</td>\n",
              "      <td>...</td>\n",
              "      <td>...</td>\n",
              "      <td>...</td>\n",
              "      <td>...</td>\n",
              "      <td>...</td>\n",
              "      <td>...</td>\n",
              "      <td>...</td>\n",
              "      <td>...</td>\n",
              "      <td>...</td>\n",
              "      <td>...</td>\n",
              "      <td>...</td>\n",
              "      <td>...</td>\n",
              "    </tr>\n",
              "    <tr>\n",
              "      <th>2914</th>\n",
              "      <td>22-09-2024</td>\n",
              "      <td>231</td>\n",
              "      <td>154.0</td>\n",
              "      <td>5.0</td>\n",
              "      <td>4.0</td>\n",
              "      <td>0.0</td>\n",
              "      <td>2.0</td>\n",
              "      <td>Sleman</td>\n",
              "      <td>SHM</td>\n",
              "      <td>3500.0</td>\n",
              "      <td>...</td>\n",
              "      <td>https://www.rumah123.com/properti/sleman/hos14...</td>\n",
              "      <td>Perumahan Mewah Jogja One Gate System Include ...</td>\n",
              "      <td>NaN</td>\n",
              "      <td>Yogyakarta</td>\n",
              "      <td>NaN</td>\n",
              "      <td>NaN</td>\n",
              "      <td>NaN</td>\n",
              "      <td>NaN</td>\n",
              "      <td>NaN</td>\n",
              "      <td>NaN</td>\n",
              "    </tr>\n",
              "    <tr>\n",
              "      <th>2915</th>\n",
              "      <td>22-09-2023</td>\n",
              "      <td>150</td>\n",
              "      <td>110.0</td>\n",
              "      <td>3.0</td>\n",
              "      <td>3.0</td>\n",
              "      <td>1.0</td>\n",
              "      <td>1.0</td>\n",
              "      <td>Sleman</td>\n",
              "      <td>SHM</td>\n",
              "      <td>3300.0</td>\n",
              "      <td>...</td>\n",
              "      <td>https://www.rumah123.com/properti/sleman/hos14...</td>\n",
              "      <td>Rumah Mewah Jogja Include Private Pool Dekat B...</td>\n",
              "      <td>NaN</td>\n",
              "      <td>Yogyakarta</td>\n",
              "      <td>NaN</td>\n",
              "      <td>NaN</td>\n",
              "      <td>NaN</td>\n",
              "      <td>NaN</td>\n",
              "      <td>NaN</td>\n",
              "      <td>NaN</td>\n",
              "    </tr>\n",
              "    <tr>\n",
              "      <th>2916</th>\n",
              "      <td>21-09-2023</td>\n",
              "      <td>552</td>\n",
              "      <td>250.0</td>\n",
              "      <td>3.0</td>\n",
              "      <td>2.0</td>\n",
              "      <td>0.0</td>\n",
              "      <td>2.0</td>\n",
              "      <td>Sleman</td>\n",
              "      <td>SHM</td>\n",
              "      <td>3500.0</td>\n",
              "      <td>...</td>\n",
              "      <td>https://www.rumah123.com/properti/sleman/hos14...</td>\n",
              "      <td>Rumah Bagus Daerah Kaliurang Jogjakarta</td>\n",
              "      <td>NaN</td>\n",
              "      <td>Yogyakarta</td>\n",
              "      <td>NaN</td>\n",
              "      <td>NaN</td>\n",
              "      <td>NaN</td>\n",
              "      <td>NaN</td>\n",
              "      <td>NaN</td>\n",
              "      <td>NaN</td>\n",
              "    </tr>\n",
              "    <tr>\n",
              "      <th>2917</th>\n",
              "      <td>19-08-2023</td>\n",
              "      <td>148</td>\n",
              "      <td>180.0</td>\n",
              "      <td>5.0</td>\n",
              "      <td>4.0</td>\n",
              "      <td>0.0</td>\n",
              "      <td>2.0</td>\n",
              "      <td>Sleman</td>\n",
              "      <td>SHM</td>\n",
              "      <td>2200.0</td>\n",
              "      <td>...</td>\n",
              "      <td>https://www.rumah123.com/properti/sleman/hos14...</td>\n",
              "      <td>RUMAH MEWAH 2LT SIAP HUNI LINGKUNGAN PERUMAHAN...</td>\n",
              "      <td>NaN</td>\n",
              "      <td>Yogyakarta</td>\n",
              "      <td>NaN</td>\n",
              "      <td>NaN</td>\n",
              "      <td>NaN</td>\n",
              "      <td>NaN</td>\n",
              "      <td>NaN</td>\n",
              "      <td>NaN</td>\n",
              "    </tr>\n",
              "    <tr>\n",
              "      <th>2918</th>\n",
              "      <td>12-08-2023</td>\n",
              "      <td>128</td>\n",
              "      <td>84.0</td>\n",
              "      <td>3.0</td>\n",
              "      <td>2.0</td>\n",
              "      <td>0.0</td>\n",
              "      <td>1.0</td>\n",
              "      <td>Sleman</td>\n",
              "      <td>SHM</td>\n",
              "      <td>4400.0</td>\n",
              "      <td>...</td>\n",
              "      <td>https://www.rumah123.com/properti/sleman/hos14...</td>\n",
              "      <td>Rumah Bagus SHM di Sendangadi, Mlati, Sleman</td>\n",
              "      <td>NaN</td>\n",
              "      <td>Yogyakarta</td>\n",
              "      <td>NaN</td>\n",
              "      <td>NaN</td>\n",
              "      <td>NaN</td>\n",
              "      <td>NaN</td>\n",
              "      <td>NaN</td>\n",
              "      <td>NaN</td>\n",
              "    </tr>\n",
              "  </tbody>\n",
              "</table>\n",
              "<p>2919 rows × 22 columns</p>\n",
              "</div>\n",
              "    <div class=\"colab-df-buttons\">\n",
              "\n",
              "  <div class=\"colab-df-container\">\n",
              "    <button class=\"colab-df-convert\" onclick=\"convertToInteractive('df-d057016f-79bf-48e3-979a-d87d533d3852')\"\n",
              "            title=\"Convert this dataframe to an interactive table.\"\n",
              "            style=\"display:none;\">\n",
              "\n",
              "  <svg xmlns=\"http://www.w3.org/2000/svg\" height=\"24px\" viewBox=\"0 -960 960 960\">\n",
              "    <path d=\"M120-120v-720h720v720H120Zm60-500h600v-160H180v160Zm220 220h160v-160H400v160Zm0 220h160v-160H400v160ZM180-400h160v-160H180v160Zm440 0h160v-160H620v160ZM180-180h160v-160H180v160Zm440 0h160v-160H620v160Z\"/>\n",
              "  </svg>\n",
              "    </button>\n",
              "\n",
              "  <style>\n",
              "    .colab-df-container {\n",
              "      display:flex;\n",
              "      gap: 12px;\n",
              "    }\n",
              "\n",
              "    .colab-df-convert {\n",
              "      background-color: #E8F0FE;\n",
              "      border: none;\n",
              "      border-radius: 50%;\n",
              "      cursor: pointer;\n",
              "      display: none;\n",
              "      fill: #1967D2;\n",
              "      height: 32px;\n",
              "      padding: 0 0 0 0;\n",
              "      width: 32px;\n",
              "    }\n",
              "\n",
              "    .colab-df-convert:hover {\n",
              "      background-color: #E2EBFA;\n",
              "      box-shadow: 0px 1px 2px rgba(60, 64, 67, 0.3), 0px 1px 3px 1px rgba(60, 64, 67, 0.15);\n",
              "      fill: #174EA6;\n",
              "    }\n",
              "\n",
              "    .colab-df-buttons div {\n",
              "      margin-bottom: 4px;\n",
              "    }\n",
              "\n",
              "    [theme=dark] .colab-df-convert {\n",
              "      background-color: #3B4455;\n",
              "      fill: #D2E3FC;\n",
              "    }\n",
              "\n",
              "    [theme=dark] .colab-df-convert:hover {\n",
              "      background-color: #434B5C;\n",
              "      box-shadow: 0px 1px 3px 1px rgba(0, 0, 0, 0.15);\n",
              "      filter: drop-shadow(0px 1px 2px rgba(0, 0, 0, 0.3));\n",
              "      fill: #FFFFFF;\n",
              "    }\n",
              "  </style>\n",
              "\n",
              "    <script>\n",
              "      const buttonEl =\n",
              "        document.querySelector('#df-d057016f-79bf-48e3-979a-d87d533d3852 button.colab-df-convert');\n",
              "      buttonEl.style.display =\n",
              "        google.colab.kernel.accessAllowed ? 'block' : 'none';\n",
              "\n",
              "      async function convertToInteractive(key) {\n",
              "        const element = document.querySelector('#df-d057016f-79bf-48e3-979a-d87d533d3852');\n",
              "        const dataTable =\n",
              "          await google.colab.kernel.invokeFunction('convertToInteractive',\n",
              "                                                    [key], {});\n",
              "        if (!dataTable) return;\n",
              "\n",
              "        const docLinkHtml = 'Like what you see? Visit the ' +\n",
              "          '<a target=\"_blank\" href=https://colab.research.google.com/notebooks/data_table.ipynb>data table notebook</a>'\n",
              "          + ' to learn more about interactive tables.';\n",
              "        element.innerHTML = '';\n",
              "        dataTable['output_type'] = 'display_data';\n",
              "        await google.colab.output.renderOutput(dataTable, element);\n",
              "        const docLink = document.createElement('div');\n",
              "        docLink.innerHTML = docLinkHtml;\n",
              "        element.appendChild(docLink);\n",
              "      }\n",
              "    </script>\n",
              "  </div>\n",
              "\n",
              "\n",
              "<div id=\"df-6cbbdfc6-e910-4b3e-83d3-79753828aca7\">\n",
              "  <button class=\"colab-df-quickchart\" onclick=\"quickchart('df-6cbbdfc6-e910-4b3e-83d3-79753828aca7')\"\n",
              "            title=\"Suggest charts.\"\n",
              "            style=\"display:none;\">\n",
              "\n",
              "<svg xmlns=\"http://www.w3.org/2000/svg\" height=\"24px\"viewBox=\"0 0 24 24\"\n",
              "     width=\"24px\">\n",
              "    <g>\n",
              "        <path d=\"M19 3H5c-1.1 0-2 .9-2 2v14c0 1.1.9 2 2 2h14c1.1 0 2-.9 2-2V5c0-1.1-.9-2-2-2zM9 17H7v-7h2v7zm4 0h-2V7h2v10zm4 0h-2v-4h2v4z\"/>\n",
              "    </g>\n",
              "</svg>\n",
              "  </button>\n",
              "\n",
              "<style>\n",
              "  .colab-df-quickchart {\n",
              "      --bg-color: #E8F0FE;\n",
              "      --fill-color: #1967D2;\n",
              "      --hover-bg-color: #E2EBFA;\n",
              "      --hover-fill-color: #174EA6;\n",
              "      --disabled-fill-color: #AAA;\n",
              "      --disabled-bg-color: #DDD;\n",
              "  }\n",
              "\n",
              "  [theme=dark] .colab-df-quickchart {\n",
              "      --bg-color: #3B4455;\n",
              "      --fill-color: #D2E3FC;\n",
              "      --hover-bg-color: #434B5C;\n",
              "      --hover-fill-color: #FFFFFF;\n",
              "      --disabled-bg-color: #3B4455;\n",
              "      --disabled-fill-color: #666;\n",
              "  }\n",
              "\n",
              "  .colab-df-quickchart {\n",
              "    background-color: var(--bg-color);\n",
              "    border: none;\n",
              "    border-radius: 50%;\n",
              "    cursor: pointer;\n",
              "    display: none;\n",
              "    fill: var(--fill-color);\n",
              "    height: 32px;\n",
              "    padding: 0;\n",
              "    width: 32px;\n",
              "  }\n",
              "\n",
              "  .colab-df-quickchart:hover {\n",
              "    background-color: var(--hover-bg-color);\n",
              "    box-shadow: 0 1px 2px rgba(60, 64, 67, 0.3), 0 1px 3px 1px rgba(60, 64, 67, 0.15);\n",
              "    fill: var(--button-hover-fill-color);\n",
              "  }\n",
              "\n",
              "  .colab-df-quickchart-complete:disabled,\n",
              "  .colab-df-quickchart-complete:disabled:hover {\n",
              "    background-color: var(--disabled-bg-color);\n",
              "    fill: var(--disabled-fill-color);\n",
              "    box-shadow: none;\n",
              "  }\n",
              "\n",
              "  .colab-df-spinner {\n",
              "    border: 2px solid var(--fill-color);\n",
              "    border-color: transparent;\n",
              "    border-bottom-color: var(--fill-color);\n",
              "    animation:\n",
              "      spin 1s steps(1) infinite;\n",
              "  }\n",
              "\n",
              "  @keyframes spin {\n",
              "    0% {\n",
              "      border-color: transparent;\n",
              "      border-bottom-color: var(--fill-color);\n",
              "      border-left-color: var(--fill-color);\n",
              "    }\n",
              "    20% {\n",
              "      border-color: transparent;\n",
              "      border-left-color: var(--fill-color);\n",
              "      border-top-color: var(--fill-color);\n",
              "    }\n",
              "    30% {\n",
              "      border-color: transparent;\n",
              "      border-left-color: var(--fill-color);\n",
              "      border-top-color: var(--fill-color);\n",
              "      border-right-color: var(--fill-color);\n",
              "    }\n",
              "    40% {\n",
              "      border-color: transparent;\n",
              "      border-right-color: var(--fill-color);\n",
              "      border-top-color: var(--fill-color);\n",
              "    }\n",
              "    60% {\n",
              "      border-color: transparent;\n",
              "      border-right-color: var(--fill-color);\n",
              "    }\n",
              "    80% {\n",
              "      border-color: transparent;\n",
              "      border-right-color: var(--fill-color);\n",
              "      border-bottom-color: var(--fill-color);\n",
              "    }\n",
              "    90% {\n",
              "      border-color: transparent;\n",
              "      border-bottom-color: var(--fill-color);\n",
              "    }\n",
              "  }\n",
              "</style>\n",
              "\n",
              "  <script>\n",
              "    async function quickchart(key) {\n",
              "      const quickchartButtonEl =\n",
              "        document.querySelector('#' + key + ' button');\n",
              "      quickchartButtonEl.disabled = true;  // To prevent multiple clicks.\n",
              "      quickchartButtonEl.classList.add('colab-df-spinner');\n",
              "      try {\n",
              "        const charts = await google.colab.kernel.invokeFunction(\n",
              "            'suggestCharts', [key], {});\n",
              "      } catch (error) {\n",
              "        console.error('Error during call to suggestCharts:', error);\n",
              "      }\n",
              "      quickchartButtonEl.classList.remove('colab-df-spinner');\n",
              "      quickchartButtonEl.classList.add('colab-df-quickchart-complete');\n",
              "    }\n",
              "    (() => {\n",
              "      let quickchartButtonEl =\n",
              "        document.querySelector('#df-6cbbdfc6-e910-4b3e-83d3-79753828aca7 button');\n",
              "      quickchartButtonEl.style.display =\n",
              "        google.colab.kernel.accessAllowed ? 'block' : 'none';\n",
              "    })();\n",
              "  </script>\n",
              "</div>\n",
              "    </div>\n",
              "  </div>\n"
            ],
            "text/plain": [
              "      created_at    lt     lb   kt   km  garasi  carport          lokasi  \\\n",
              "0     03-12-2021  75.0   38.0  2.0  1.0     1.0      1.0      Bojonggede   \n",
              "1     06-12-2021  60.0   40.0  1.0  1.0     0.0      1.0  Babakan Madang   \n",
              "2     06-12-2021  60.0   50.0  2.0  2.0     0.0      1.0  Babakan Madang   \n",
              "3     06-12-2021  60.0   70.0  3.0  2.0     0.0      1.0  Babakan Madang   \n",
              "4     06-12-2021  90.0   60.0  3.0  2.0     0.0      2.0  Babakan Madang   \n",
              "...          ...   ...    ...  ...  ...     ...      ...             ...   \n",
              "2914  22-09-2024   231  154.0  5.0  4.0     0.0      2.0          Sleman   \n",
              "2915  22-09-2023   150  110.0  3.0  3.0     1.0      1.0          Sleman   \n",
              "2916  21-09-2023   552  250.0  3.0  2.0     0.0      2.0          Sleman   \n",
              "2917  19-08-2023   148  180.0  5.0  4.0     0.0      2.0          Sleman   \n",
              "2918  12-08-2023   128   84.0  3.0  2.0     0.0      1.0          Sleman   \n",
              "\n",
              "     sertifikat listrik  ...  \\\n",
              "0           SHM    1300  ...   \n",
              "1           SHM    2200  ...   \n",
              "2           SHM    2200  ...   \n",
              "3           SHM    2200  ...   \n",
              "4           SHM    2200  ...   \n",
              "...         ...     ...  ...   \n",
              "2914        SHM  3500.0  ...   \n",
              "2915        SHM  3300.0  ...   \n",
              "2916        SHM  3500.0  ...   \n",
              "2917        SHM  2200.0  ...   \n",
              "2918        SHM  4400.0  ...   \n",
              "\n",
              "                                                    url  \\\n",
              "0     https://rumahdijual.com/bekasi/10799791-rumah-...   \n",
              "1     https://www.rumah123.com/perumahan-baru/proper...   \n",
              "2     https://www.rumah123.com/perumahan-baru/proper...   \n",
              "3     https://www.rumah123.com/perumahan-baru/proper...   \n",
              "4     https://www.rumah123.com/perumahan-baru/proper...   \n",
              "...                                                 ...   \n",
              "2914  https://www.rumah123.com/properti/sleman/hos14...   \n",
              "2915  https://www.rumah123.com/properti/sleman/hos14...   \n",
              "2916  https://www.rumah123.com/properti/sleman/hos14...   \n",
              "2917  https://www.rumah123.com/properti/sleman/hos14...   \n",
              "2918  https://www.rumah123.com/properti/sleman/hos14...   \n",
              "\n",
              "                                              deskripsi unnamed: 14  \\\n",
              "0     Dekat tol jati warna, dekat sutle busway, deka...         NaN   \n",
              "1     Destinasi menarik di kawasan Babakan Madang; G...         NaN   \n",
              "2     Destinasi menarik di kawasan Babakan Madang; G...         NaN   \n",
              "3     Destinasi menarik di kawasan Babakan Madang; G...         NaN   \n",
              "4     Destinasi menarik di kawasan Babakan Madang; G...         NaN   \n",
              "...                                                 ...         ...   \n",
              "2914  Perumahan Mewah Jogja One Gate System Include ...         NaN   \n",
              "2915  Rumah Mewah Jogja Include Private Pool Dekat B...         NaN   \n",
              "2916            Rumah Bagus Daerah Kaliurang Jogjakarta         NaN   \n",
              "2917  RUMAH MEWAH 2LT SIAP HUNI LINGKUNGAN PERUMAHAN...         NaN   \n",
              "2918       Rumah Bagus SHM di Sendangadi, Mlati, Sleman         NaN   \n",
              "\n",
              "         wilayah deskripsi  harga (rp) lt (m2)  lb (m2)  lt(m²)  lb(m²)  \n",
              "0          Bogor        NaN        NaN     NaN      NaN     NaN     NaN  \n",
              "1          Bogor        NaN        NaN     NaN      NaN     NaN     NaN  \n",
              "2          Bogor        NaN        NaN     NaN      NaN     NaN     NaN  \n",
              "3          Bogor        NaN        NaN     NaN      NaN     NaN     NaN  \n",
              "4          Bogor        NaN        NaN     NaN      NaN     NaN     NaN  \n",
              "...          ...        ...        ...     ...      ...     ...     ...  \n",
              "2914  Yogyakarta        NaN        NaN     NaN      NaN     NaN     NaN  \n",
              "2915  Yogyakarta        NaN        NaN     NaN      NaN     NaN     NaN  \n",
              "2916  Yogyakarta        NaN        NaN     NaN      NaN     NaN     NaN  \n",
              "2917  Yogyakarta        NaN        NaN     NaN      NaN     NaN     NaN  \n",
              "2918  Yogyakarta        NaN        NaN     NaN      NaN     NaN     NaN  \n",
              "\n",
              "[2919 rows x 22 columns]"
            ]
          },
          "execution_count": 8,
          "metadata": {},
          "output_type": "execute_result"
        }
      ],
      "source": [
        "df_merged"
      ]
    },
    {
      "cell_type": "code",
      "execution_count": null,
      "metadata": {
        "colab": {
          "base_uri": "https://localhost:8080/"
        },
        "id": "HQ5ZTNEoetGZ",
        "outputId": "25690a74-1c28-498a-c099-05d60e5c17e2"
      },
      "outputs": [
        {
          "data": {
            "text/plain": [
              "created_at      0.616650\n",
              "lt             20.520726\n",
              "lb             20.589243\n",
              "kt              0.685166\n",
              "km              0.753683\n",
              "garasi         36.656389\n",
              "carport        19.630010\n",
              "lokasi          0.616650\n",
              "sertifikat      0.924974\n",
              "listrik         8.290510\n",
              "hadap          56.868791\n",
              "harga           6.988695\n",
              "url             0.719424\n",
              "deskripsi      21.582734\n",
              "unnamed: 14    99.794450\n",
              "wilayah         0.000000\n",
              "deskripsi      79.890373\n",
              "harga (rp)     93.696471\n",
              "lt (m2)        86.810552\n",
              "lb (m2)        86.810552\n",
              "lt(m²)         93.251113\n",
              "lb(m²)         93.251113\n",
              "dtype: float64"
            ]
          },
          "execution_count": 9,
          "metadata": {},
          "output_type": "execute_result"
        }
      ],
      "source": [
        "df_merged.isnull().mean() * 100"
      ]
    },
    {
      "cell_type": "code",
      "execution_count": null,
      "metadata": {
        "colab": {
          "base_uri": "https://localhost:8080/"
        },
        "id": "GNPuzoa2et0f",
        "outputId": "d9ebf040-3b07-40b7-ec85-fada00acea7a"
      },
      "outputs": [
        {
          "name": "stderr",
          "output_type": "stream",
          "text": [
            "<ipython-input-10-401de59eb5a4>:4: SettingWithCopyWarning: \n",
            "A value is trying to be set on a copy of a slice from a DataFrame\n",
            "\n",
            "See the caveats in the documentation: https://pandas.pydata.org/pandas-docs/stable/user_guide/indexing.html#returning-a-view-versus-a-copy\n",
            "  df_merged[\"lt\"][i] = df_merged[\"lt (m2)\"][i]\n",
            "<ipython-input-10-401de59eb5a4>:6: SettingWithCopyWarning: \n",
            "A value is trying to be set on a copy of a slice from a DataFrame\n",
            "\n",
            "See the caveats in the documentation: https://pandas.pydata.org/pandas-docs/stable/user_guide/indexing.html#returning-a-view-versus-a-copy\n",
            "  df_merged[\"lt\"][i] = df_merged[\"lt(m²)\"][i]\n"
          ]
        }
      ],
      "source": [
        "for i in range(len(df_merged)):\n",
        "  if pd.isna(df_merged[\"lt\"][i]) == True:\n",
        "    if pd.isna(df_merged[\"lt(m²)\"][i]) == True:\n",
        "      df_merged[\"lt\"][i] = df_merged[\"lt (m2)\"][i]\n",
        "    else:\n",
        "      df_merged[\"lt\"][i] = df_merged[\"lt(m²)\"][i]"
      ]
    },
    {
      "cell_type": "code",
      "execution_count": null,
      "metadata": {
        "colab": {
          "base_uri": "https://localhost:8080/"
        },
        "id": "_AHwBAO_ezBp",
        "outputId": "5786573e-6ecb-46f6-855e-df7673175a6e"
      },
      "outputs": [
        {
          "name": "stderr",
          "output_type": "stream",
          "text": [
            "<ipython-input-11-807eaa171fe5>:4: SettingWithCopyWarning: \n",
            "A value is trying to be set on a copy of a slice from a DataFrame\n",
            "\n",
            "See the caveats in the documentation: https://pandas.pydata.org/pandas-docs/stable/user_guide/indexing.html#returning-a-view-versus-a-copy\n",
            "  df_merged[\"lb\"][i] = df_merged[\"lb (m2)\"][i]\n",
            "<ipython-input-11-807eaa171fe5>:6: SettingWithCopyWarning: \n",
            "A value is trying to be set on a copy of a slice from a DataFrame\n",
            "\n",
            "See the caveats in the documentation: https://pandas.pydata.org/pandas-docs/stable/user_guide/indexing.html#returning-a-view-versus-a-copy\n",
            "  df_merged[\"lb\"][i] = df_merged[\"lb(m²)\"][i]\n"
          ]
        }
      ],
      "source": [
        "for i in range(len(df_merged)):\n",
        "  if pd.isna(df_merged[\"lb\"][i]) == True:\n",
        "    if pd.isna(df_merged[\"lb(m²)\"][i]) == True:\n",
        "      df_merged[\"lb\"][i] = df_merged[\"lb (m2)\"][i]\n",
        "    else:\n",
        "      df_merged[\"lb\"][i] = df_merged[\"lb(m²)\"][i]"
      ]
    },
    {
      "cell_type": "code",
      "execution_count": null,
      "metadata": {
        "colab": {
          "base_uri": "https://localhost:8080/"
        },
        "id": "kOJrRjhYe0Xh",
        "outputId": "d4ba1bfc-36c3-429f-d568-008ea54a85c3"
      },
      "outputs": [
        {
          "name": "stderr",
          "output_type": "stream",
          "text": [
            "<ipython-input-12-17e73114d9d6>:3: SettingWithCopyWarning: \n",
            "A value is trying to be set on a copy of a slice from a DataFrame\n",
            "\n",
            "See the caveats in the documentation: https://pandas.pydata.org/pandas-docs/stable/user_guide/indexing.html#returning-a-view-versus-a-copy\n",
            "  df_merged[\"harga\"][i] = df_merged[\"harga (rp)\"][i]\n"
          ]
        }
      ],
      "source": [
        "for i in range(len(df_merged)):\n",
        "  if pd.isna(df_merged[\"harga\"][i]) == True:\n",
        "      df_merged[\"harga\"][i] = df_merged[\"harga (rp)\"][i]"
      ]
    },
    {
      "cell_type": "code",
      "execution_count": null,
      "metadata": {
        "colab": {
          "base_uri": "https://localhost:8080/",
          "height": 1000
        },
        "id": "amBFZsCFfsbK",
        "outputId": "6179f759-d54b-4c7c-a937-094d7bb7cfd2"
      },
      "outputs": [
        {
          "data": {
            "text/html": [
              "\n",
              "  <div id=\"df-9e6d57f4-1011-4efc-8a4b-0d2a22025976\" class=\"colab-df-container\">\n",
              "    <div>\n",
              "<style scoped>\n",
              "    .dataframe tbody tr th:only-of-type {\n",
              "        vertical-align: middle;\n",
              "    }\n",
              "\n",
              "    .dataframe tbody tr th {\n",
              "        vertical-align: top;\n",
              "    }\n",
              "\n",
              "    .dataframe thead th {\n",
              "        text-align: right;\n",
              "    }\n",
              "</style>\n",
              "<table border=\"1\" class=\"dataframe\">\n",
              "  <thead>\n",
              "    <tr style=\"text-align: right;\">\n",
              "      <th></th>\n",
              "      <th>created_at</th>\n",
              "      <th>lt</th>\n",
              "      <th>lb</th>\n",
              "      <th>kt</th>\n",
              "      <th>km</th>\n",
              "      <th>garasi</th>\n",
              "      <th>carport</th>\n",
              "      <th>lokasi</th>\n",
              "      <th>sertifikat</th>\n",
              "      <th>listrik</th>\n",
              "      <th>...</th>\n",
              "      <th>url</th>\n",
              "      <th>deskripsi</th>\n",
              "      <th>unnamed: 14</th>\n",
              "      <th>wilayah</th>\n",
              "      <th>deskripsi</th>\n",
              "      <th>harga (rp)</th>\n",
              "      <th>lt (m2)</th>\n",
              "      <th>lb (m2)</th>\n",
              "      <th>lt(m²)</th>\n",
              "      <th>lb(m²)</th>\n",
              "    </tr>\n",
              "  </thead>\n",
              "  <tbody>\n",
              "    <tr>\n",
              "      <th>0</th>\n",
              "      <td>03-12-2021</td>\n",
              "      <td>75.0</td>\n",
              "      <td>38.0</td>\n",
              "      <td>2.0</td>\n",
              "      <td>1.0</td>\n",
              "      <td>1.0</td>\n",
              "      <td>1.0</td>\n",
              "      <td>Bojonggede</td>\n",
              "      <td>SHM</td>\n",
              "      <td>1300</td>\n",
              "      <td>...</td>\n",
              "      <td>https://rumahdijual.com/bekasi/10799791-rumah-...</td>\n",
              "      <td>Dekat tol jati warna, dekat sutle busway, deka...</td>\n",
              "      <td>NaN</td>\n",
              "      <td>Bogor</td>\n",
              "      <td>NaN</td>\n",
              "      <td>NaN</td>\n",
              "      <td>NaN</td>\n",
              "      <td>NaN</td>\n",
              "      <td>NaN</td>\n",
              "      <td>NaN</td>\n",
              "    </tr>\n",
              "    <tr>\n",
              "      <th>1</th>\n",
              "      <td>06-12-2021</td>\n",
              "      <td>60.0</td>\n",
              "      <td>40.0</td>\n",
              "      <td>1.0</td>\n",
              "      <td>1.0</td>\n",
              "      <td>0.0</td>\n",
              "      <td>1.0</td>\n",
              "      <td>Babakan Madang</td>\n",
              "      <td>SHM</td>\n",
              "      <td>2200</td>\n",
              "      <td>...</td>\n",
              "      <td>https://www.rumah123.com/perumahan-baru/proper...</td>\n",
              "      <td>Destinasi menarik di kawasan Babakan Madang; G...</td>\n",
              "      <td>NaN</td>\n",
              "      <td>Bogor</td>\n",
              "      <td>NaN</td>\n",
              "      <td>NaN</td>\n",
              "      <td>NaN</td>\n",
              "      <td>NaN</td>\n",
              "      <td>NaN</td>\n",
              "      <td>NaN</td>\n",
              "    </tr>\n",
              "    <tr>\n",
              "      <th>2</th>\n",
              "      <td>06-12-2021</td>\n",
              "      <td>60.0</td>\n",
              "      <td>50.0</td>\n",
              "      <td>2.0</td>\n",
              "      <td>2.0</td>\n",
              "      <td>0.0</td>\n",
              "      <td>1.0</td>\n",
              "      <td>Babakan Madang</td>\n",
              "      <td>SHM</td>\n",
              "      <td>2200</td>\n",
              "      <td>...</td>\n",
              "      <td>https://www.rumah123.com/perumahan-baru/proper...</td>\n",
              "      <td>Destinasi menarik di kawasan Babakan Madang; G...</td>\n",
              "      <td>NaN</td>\n",
              "      <td>Bogor</td>\n",
              "      <td>NaN</td>\n",
              "      <td>NaN</td>\n",
              "      <td>NaN</td>\n",
              "      <td>NaN</td>\n",
              "      <td>NaN</td>\n",
              "      <td>NaN</td>\n",
              "    </tr>\n",
              "    <tr>\n",
              "      <th>3</th>\n",
              "      <td>06-12-2021</td>\n",
              "      <td>60.0</td>\n",
              "      <td>70.0</td>\n",
              "      <td>3.0</td>\n",
              "      <td>2.0</td>\n",
              "      <td>0.0</td>\n",
              "      <td>1.0</td>\n",
              "      <td>Babakan Madang</td>\n",
              "      <td>SHM</td>\n",
              "      <td>2200</td>\n",
              "      <td>...</td>\n",
              "      <td>https://www.rumah123.com/perumahan-baru/proper...</td>\n",
              "      <td>Destinasi menarik di kawasan Babakan Madang; G...</td>\n",
              "      <td>NaN</td>\n",
              "      <td>Bogor</td>\n",
              "      <td>NaN</td>\n",
              "      <td>NaN</td>\n",
              "      <td>NaN</td>\n",
              "      <td>NaN</td>\n",
              "      <td>NaN</td>\n",
              "      <td>NaN</td>\n",
              "    </tr>\n",
              "    <tr>\n",
              "      <th>4</th>\n",
              "      <td>06-12-2021</td>\n",
              "      <td>90.0</td>\n",
              "      <td>60.0</td>\n",
              "      <td>3.0</td>\n",
              "      <td>2.0</td>\n",
              "      <td>0.0</td>\n",
              "      <td>2.0</td>\n",
              "      <td>Babakan Madang</td>\n",
              "      <td>SHM</td>\n",
              "      <td>2200</td>\n",
              "      <td>...</td>\n",
              "      <td>https://www.rumah123.com/perumahan-baru/proper...</td>\n",
              "      <td>Destinasi menarik di kawasan Babakan Madang; G...</td>\n",
              "      <td>NaN</td>\n",
              "      <td>Bogor</td>\n",
              "      <td>NaN</td>\n",
              "      <td>NaN</td>\n",
              "      <td>NaN</td>\n",
              "      <td>NaN</td>\n",
              "      <td>NaN</td>\n",
              "      <td>NaN</td>\n",
              "    </tr>\n",
              "    <tr>\n",
              "      <th>...</th>\n",
              "      <td>...</td>\n",
              "      <td>...</td>\n",
              "      <td>...</td>\n",
              "      <td>...</td>\n",
              "      <td>...</td>\n",
              "      <td>...</td>\n",
              "      <td>...</td>\n",
              "      <td>...</td>\n",
              "      <td>...</td>\n",
              "      <td>...</td>\n",
              "      <td>...</td>\n",
              "      <td>...</td>\n",
              "      <td>...</td>\n",
              "      <td>...</td>\n",
              "      <td>...</td>\n",
              "      <td>...</td>\n",
              "      <td>...</td>\n",
              "      <td>...</td>\n",
              "      <td>...</td>\n",
              "      <td>...</td>\n",
              "      <td>...</td>\n",
              "    </tr>\n",
              "    <tr>\n",
              "      <th>2914</th>\n",
              "      <td>22-09-2024</td>\n",
              "      <td>231</td>\n",
              "      <td>154.0</td>\n",
              "      <td>5.0</td>\n",
              "      <td>4.0</td>\n",
              "      <td>0.0</td>\n",
              "      <td>2.0</td>\n",
              "      <td>Sleman</td>\n",
              "      <td>SHM</td>\n",
              "      <td>3500.0</td>\n",
              "      <td>...</td>\n",
              "      <td>https://www.rumah123.com/properti/sleman/hos14...</td>\n",
              "      <td>Perumahan Mewah Jogja One Gate System Include ...</td>\n",
              "      <td>NaN</td>\n",
              "      <td>Yogyakarta</td>\n",
              "      <td>NaN</td>\n",
              "      <td>NaN</td>\n",
              "      <td>NaN</td>\n",
              "      <td>NaN</td>\n",
              "      <td>NaN</td>\n",
              "      <td>NaN</td>\n",
              "    </tr>\n",
              "    <tr>\n",
              "      <th>2915</th>\n",
              "      <td>22-09-2023</td>\n",
              "      <td>150</td>\n",
              "      <td>110.0</td>\n",
              "      <td>3.0</td>\n",
              "      <td>3.0</td>\n",
              "      <td>1.0</td>\n",
              "      <td>1.0</td>\n",
              "      <td>Sleman</td>\n",
              "      <td>SHM</td>\n",
              "      <td>3300.0</td>\n",
              "      <td>...</td>\n",
              "      <td>https://www.rumah123.com/properti/sleman/hos14...</td>\n",
              "      <td>Rumah Mewah Jogja Include Private Pool Dekat B...</td>\n",
              "      <td>NaN</td>\n",
              "      <td>Yogyakarta</td>\n",
              "      <td>NaN</td>\n",
              "      <td>NaN</td>\n",
              "      <td>NaN</td>\n",
              "      <td>NaN</td>\n",
              "      <td>NaN</td>\n",
              "      <td>NaN</td>\n",
              "    </tr>\n",
              "    <tr>\n",
              "      <th>2916</th>\n",
              "      <td>21-09-2023</td>\n",
              "      <td>552</td>\n",
              "      <td>250.0</td>\n",
              "      <td>3.0</td>\n",
              "      <td>2.0</td>\n",
              "      <td>0.0</td>\n",
              "      <td>2.0</td>\n",
              "      <td>Sleman</td>\n",
              "      <td>SHM</td>\n",
              "      <td>3500.0</td>\n",
              "      <td>...</td>\n",
              "      <td>https://www.rumah123.com/properti/sleman/hos14...</td>\n",
              "      <td>Rumah Bagus Daerah Kaliurang Jogjakarta</td>\n",
              "      <td>NaN</td>\n",
              "      <td>Yogyakarta</td>\n",
              "      <td>NaN</td>\n",
              "      <td>NaN</td>\n",
              "      <td>NaN</td>\n",
              "      <td>NaN</td>\n",
              "      <td>NaN</td>\n",
              "      <td>NaN</td>\n",
              "    </tr>\n",
              "    <tr>\n",
              "      <th>2917</th>\n",
              "      <td>19-08-2023</td>\n",
              "      <td>148</td>\n",
              "      <td>180.0</td>\n",
              "      <td>5.0</td>\n",
              "      <td>4.0</td>\n",
              "      <td>0.0</td>\n",
              "      <td>2.0</td>\n",
              "      <td>Sleman</td>\n",
              "      <td>SHM</td>\n",
              "      <td>2200.0</td>\n",
              "      <td>...</td>\n",
              "      <td>https://www.rumah123.com/properti/sleman/hos14...</td>\n",
              "      <td>RUMAH MEWAH 2LT SIAP HUNI LINGKUNGAN PERUMAHAN...</td>\n",
              "      <td>NaN</td>\n",
              "      <td>Yogyakarta</td>\n",
              "      <td>NaN</td>\n",
              "      <td>NaN</td>\n",
              "      <td>NaN</td>\n",
              "      <td>NaN</td>\n",
              "      <td>NaN</td>\n",
              "      <td>NaN</td>\n",
              "    </tr>\n",
              "    <tr>\n",
              "      <th>2918</th>\n",
              "      <td>12-08-2023</td>\n",
              "      <td>128</td>\n",
              "      <td>84.0</td>\n",
              "      <td>3.0</td>\n",
              "      <td>2.0</td>\n",
              "      <td>0.0</td>\n",
              "      <td>1.0</td>\n",
              "      <td>Sleman</td>\n",
              "      <td>SHM</td>\n",
              "      <td>4400.0</td>\n",
              "      <td>...</td>\n",
              "      <td>https://www.rumah123.com/properti/sleman/hos14...</td>\n",
              "      <td>Rumah Bagus SHM di Sendangadi, Mlati, Sleman</td>\n",
              "      <td>NaN</td>\n",
              "      <td>Yogyakarta</td>\n",
              "      <td>NaN</td>\n",
              "      <td>NaN</td>\n",
              "      <td>NaN</td>\n",
              "      <td>NaN</td>\n",
              "      <td>NaN</td>\n",
              "      <td>NaN</td>\n",
              "    </tr>\n",
              "  </tbody>\n",
              "</table>\n",
              "<p>2919 rows × 22 columns</p>\n",
              "</div>\n",
              "    <div class=\"colab-df-buttons\">\n",
              "\n",
              "  <div class=\"colab-df-container\">\n",
              "    <button class=\"colab-df-convert\" onclick=\"convertToInteractive('df-9e6d57f4-1011-4efc-8a4b-0d2a22025976')\"\n",
              "            title=\"Convert this dataframe to an interactive table.\"\n",
              "            style=\"display:none;\">\n",
              "\n",
              "  <svg xmlns=\"http://www.w3.org/2000/svg\" height=\"24px\" viewBox=\"0 -960 960 960\">\n",
              "    <path d=\"M120-120v-720h720v720H120Zm60-500h600v-160H180v160Zm220 220h160v-160H400v160Zm0 220h160v-160H400v160ZM180-400h160v-160H180v160Zm440 0h160v-160H620v160ZM180-180h160v-160H180v160Zm440 0h160v-160H620v160Z\"/>\n",
              "  </svg>\n",
              "    </button>\n",
              "\n",
              "  <style>\n",
              "    .colab-df-container {\n",
              "      display:flex;\n",
              "      gap: 12px;\n",
              "    }\n",
              "\n",
              "    .colab-df-convert {\n",
              "      background-color: #E8F0FE;\n",
              "      border: none;\n",
              "      border-radius: 50%;\n",
              "      cursor: pointer;\n",
              "      display: none;\n",
              "      fill: #1967D2;\n",
              "      height: 32px;\n",
              "      padding: 0 0 0 0;\n",
              "      width: 32px;\n",
              "    }\n",
              "\n",
              "    .colab-df-convert:hover {\n",
              "      background-color: #E2EBFA;\n",
              "      box-shadow: 0px 1px 2px rgba(60, 64, 67, 0.3), 0px 1px 3px 1px rgba(60, 64, 67, 0.15);\n",
              "      fill: #174EA6;\n",
              "    }\n",
              "\n",
              "    .colab-df-buttons div {\n",
              "      margin-bottom: 4px;\n",
              "    }\n",
              "\n",
              "    [theme=dark] .colab-df-convert {\n",
              "      background-color: #3B4455;\n",
              "      fill: #D2E3FC;\n",
              "    }\n",
              "\n",
              "    [theme=dark] .colab-df-convert:hover {\n",
              "      background-color: #434B5C;\n",
              "      box-shadow: 0px 1px 3px 1px rgba(0, 0, 0, 0.15);\n",
              "      filter: drop-shadow(0px 1px 2px rgba(0, 0, 0, 0.3));\n",
              "      fill: #FFFFFF;\n",
              "    }\n",
              "  </style>\n",
              "\n",
              "    <script>\n",
              "      const buttonEl =\n",
              "        document.querySelector('#df-9e6d57f4-1011-4efc-8a4b-0d2a22025976 button.colab-df-convert');\n",
              "      buttonEl.style.display =\n",
              "        google.colab.kernel.accessAllowed ? 'block' : 'none';\n",
              "\n",
              "      async function convertToInteractive(key) {\n",
              "        const element = document.querySelector('#df-9e6d57f4-1011-4efc-8a4b-0d2a22025976');\n",
              "        const dataTable =\n",
              "          await google.colab.kernel.invokeFunction('convertToInteractive',\n",
              "                                                    [key], {});\n",
              "        if (!dataTable) return;\n",
              "\n",
              "        const docLinkHtml = 'Like what you see? Visit the ' +\n",
              "          '<a target=\"_blank\" href=https://colab.research.google.com/notebooks/data_table.ipynb>data table notebook</a>'\n",
              "          + ' to learn more about interactive tables.';\n",
              "        element.innerHTML = '';\n",
              "        dataTable['output_type'] = 'display_data';\n",
              "        await google.colab.output.renderOutput(dataTable, element);\n",
              "        const docLink = document.createElement('div');\n",
              "        docLink.innerHTML = docLinkHtml;\n",
              "        element.appendChild(docLink);\n",
              "      }\n",
              "    </script>\n",
              "  </div>\n",
              "\n",
              "\n",
              "<div id=\"df-e8399084-fb59-4b15-b5bb-ad37b9eed571\">\n",
              "  <button class=\"colab-df-quickchart\" onclick=\"quickchart('df-e8399084-fb59-4b15-b5bb-ad37b9eed571')\"\n",
              "            title=\"Suggest charts.\"\n",
              "            style=\"display:none;\">\n",
              "\n",
              "<svg xmlns=\"http://www.w3.org/2000/svg\" height=\"24px\"viewBox=\"0 0 24 24\"\n",
              "     width=\"24px\">\n",
              "    <g>\n",
              "        <path d=\"M19 3H5c-1.1 0-2 .9-2 2v14c0 1.1.9 2 2 2h14c1.1 0 2-.9 2-2V5c0-1.1-.9-2-2-2zM9 17H7v-7h2v7zm4 0h-2V7h2v10zm4 0h-2v-4h2v4z\"/>\n",
              "    </g>\n",
              "</svg>\n",
              "  </button>\n",
              "\n",
              "<style>\n",
              "  .colab-df-quickchart {\n",
              "      --bg-color: #E8F0FE;\n",
              "      --fill-color: #1967D2;\n",
              "      --hover-bg-color: #E2EBFA;\n",
              "      --hover-fill-color: #174EA6;\n",
              "      --disabled-fill-color: #AAA;\n",
              "      --disabled-bg-color: #DDD;\n",
              "  }\n",
              "\n",
              "  [theme=dark] .colab-df-quickchart {\n",
              "      --bg-color: #3B4455;\n",
              "      --fill-color: #D2E3FC;\n",
              "      --hover-bg-color: #434B5C;\n",
              "      --hover-fill-color: #FFFFFF;\n",
              "      --disabled-bg-color: #3B4455;\n",
              "      --disabled-fill-color: #666;\n",
              "  }\n",
              "\n",
              "  .colab-df-quickchart {\n",
              "    background-color: var(--bg-color);\n",
              "    border: none;\n",
              "    border-radius: 50%;\n",
              "    cursor: pointer;\n",
              "    display: none;\n",
              "    fill: var(--fill-color);\n",
              "    height: 32px;\n",
              "    padding: 0;\n",
              "    width: 32px;\n",
              "  }\n",
              "\n",
              "  .colab-df-quickchart:hover {\n",
              "    background-color: var(--hover-bg-color);\n",
              "    box-shadow: 0 1px 2px rgba(60, 64, 67, 0.3), 0 1px 3px 1px rgba(60, 64, 67, 0.15);\n",
              "    fill: var(--button-hover-fill-color);\n",
              "  }\n",
              "\n",
              "  .colab-df-quickchart-complete:disabled,\n",
              "  .colab-df-quickchart-complete:disabled:hover {\n",
              "    background-color: var(--disabled-bg-color);\n",
              "    fill: var(--disabled-fill-color);\n",
              "    box-shadow: none;\n",
              "  }\n",
              "\n",
              "  .colab-df-spinner {\n",
              "    border: 2px solid var(--fill-color);\n",
              "    border-color: transparent;\n",
              "    border-bottom-color: var(--fill-color);\n",
              "    animation:\n",
              "      spin 1s steps(1) infinite;\n",
              "  }\n",
              "\n",
              "  @keyframes spin {\n",
              "    0% {\n",
              "      border-color: transparent;\n",
              "      border-bottom-color: var(--fill-color);\n",
              "      border-left-color: var(--fill-color);\n",
              "    }\n",
              "    20% {\n",
              "      border-color: transparent;\n",
              "      border-left-color: var(--fill-color);\n",
              "      border-top-color: var(--fill-color);\n",
              "    }\n",
              "    30% {\n",
              "      border-color: transparent;\n",
              "      border-left-color: var(--fill-color);\n",
              "      border-top-color: var(--fill-color);\n",
              "      border-right-color: var(--fill-color);\n",
              "    }\n",
              "    40% {\n",
              "      border-color: transparent;\n",
              "      border-right-color: var(--fill-color);\n",
              "      border-top-color: var(--fill-color);\n",
              "    }\n",
              "    60% {\n",
              "      border-color: transparent;\n",
              "      border-right-color: var(--fill-color);\n",
              "    }\n",
              "    80% {\n",
              "      border-color: transparent;\n",
              "      border-right-color: var(--fill-color);\n",
              "      border-bottom-color: var(--fill-color);\n",
              "    }\n",
              "    90% {\n",
              "      border-color: transparent;\n",
              "      border-bottom-color: var(--fill-color);\n",
              "    }\n",
              "  }\n",
              "</style>\n",
              "\n",
              "  <script>\n",
              "    async function quickchart(key) {\n",
              "      const quickchartButtonEl =\n",
              "        document.querySelector('#' + key + ' button');\n",
              "      quickchartButtonEl.disabled = true;  // To prevent multiple clicks.\n",
              "      quickchartButtonEl.classList.add('colab-df-spinner');\n",
              "      try {\n",
              "        const charts = await google.colab.kernel.invokeFunction(\n",
              "            'suggestCharts', [key], {});\n",
              "      } catch (error) {\n",
              "        console.error('Error during call to suggestCharts:', error);\n",
              "      }\n",
              "      quickchartButtonEl.classList.remove('colab-df-spinner');\n",
              "      quickchartButtonEl.classList.add('colab-df-quickchart-complete');\n",
              "    }\n",
              "    (() => {\n",
              "      let quickchartButtonEl =\n",
              "        document.querySelector('#df-e8399084-fb59-4b15-b5bb-ad37b9eed571 button');\n",
              "      quickchartButtonEl.style.display =\n",
              "        google.colab.kernel.accessAllowed ? 'block' : 'none';\n",
              "    })();\n",
              "  </script>\n",
              "</div>\n",
              "    </div>\n",
              "  </div>\n"
            ],
            "text/plain": [
              "      created_at    lt     lb   kt   km  garasi  carport          lokasi  \\\n",
              "0     03-12-2021  75.0   38.0  2.0  1.0     1.0      1.0      Bojonggede   \n",
              "1     06-12-2021  60.0   40.0  1.0  1.0     0.0      1.0  Babakan Madang   \n",
              "2     06-12-2021  60.0   50.0  2.0  2.0     0.0      1.0  Babakan Madang   \n",
              "3     06-12-2021  60.0   70.0  3.0  2.0     0.0      1.0  Babakan Madang   \n",
              "4     06-12-2021  90.0   60.0  3.0  2.0     0.0      2.0  Babakan Madang   \n",
              "...          ...   ...    ...  ...  ...     ...      ...             ...   \n",
              "2914  22-09-2024   231  154.0  5.0  4.0     0.0      2.0          Sleman   \n",
              "2915  22-09-2023   150  110.0  3.0  3.0     1.0      1.0          Sleman   \n",
              "2916  21-09-2023   552  250.0  3.0  2.0     0.0      2.0          Sleman   \n",
              "2917  19-08-2023   148  180.0  5.0  4.0     0.0      2.0          Sleman   \n",
              "2918  12-08-2023   128   84.0  3.0  2.0     0.0      1.0          Sleman   \n",
              "\n",
              "     sertifikat listrik  ...  \\\n",
              "0           SHM    1300  ...   \n",
              "1           SHM    2200  ...   \n",
              "2           SHM    2200  ...   \n",
              "3           SHM    2200  ...   \n",
              "4           SHM    2200  ...   \n",
              "...         ...     ...  ...   \n",
              "2914        SHM  3500.0  ...   \n",
              "2915        SHM  3300.0  ...   \n",
              "2916        SHM  3500.0  ...   \n",
              "2917        SHM  2200.0  ...   \n",
              "2918        SHM  4400.0  ...   \n",
              "\n",
              "                                                    url  \\\n",
              "0     https://rumahdijual.com/bekasi/10799791-rumah-...   \n",
              "1     https://www.rumah123.com/perumahan-baru/proper...   \n",
              "2     https://www.rumah123.com/perumahan-baru/proper...   \n",
              "3     https://www.rumah123.com/perumahan-baru/proper...   \n",
              "4     https://www.rumah123.com/perumahan-baru/proper...   \n",
              "...                                                 ...   \n",
              "2914  https://www.rumah123.com/properti/sleman/hos14...   \n",
              "2915  https://www.rumah123.com/properti/sleman/hos14...   \n",
              "2916  https://www.rumah123.com/properti/sleman/hos14...   \n",
              "2917  https://www.rumah123.com/properti/sleman/hos14...   \n",
              "2918  https://www.rumah123.com/properti/sleman/hos14...   \n",
              "\n",
              "                                              deskripsi unnamed: 14  \\\n",
              "0     Dekat tol jati warna, dekat sutle busway, deka...         NaN   \n",
              "1     Destinasi menarik di kawasan Babakan Madang; G...         NaN   \n",
              "2     Destinasi menarik di kawasan Babakan Madang; G...         NaN   \n",
              "3     Destinasi menarik di kawasan Babakan Madang; G...         NaN   \n",
              "4     Destinasi menarik di kawasan Babakan Madang; G...         NaN   \n",
              "...                                                 ...         ...   \n",
              "2914  Perumahan Mewah Jogja One Gate System Include ...         NaN   \n",
              "2915  Rumah Mewah Jogja Include Private Pool Dekat B...         NaN   \n",
              "2916            Rumah Bagus Daerah Kaliurang Jogjakarta         NaN   \n",
              "2917  RUMAH MEWAH 2LT SIAP HUNI LINGKUNGAN PERUMAHAN...         NaN   \n",
              "2918       Rumah Bagus SHM di Sendangadi, Mlati, Sleman         NaN   \n",
              "\n",
              "         wilayah deskripsi  harga (rp) lt (m2)  lb (m2)  lt(m²)  lb(m²)  \n",
              "0          Bogor        NaN        NaN     NaN      NaN     NaN     NaN  \n",
              "1          Bogor        NaN        NaN     NaN      NaN     NaN     NaN  \n",
              "2          Bogor        NaN        NaN     NaN      NaN     NaN     NaN  \n",
              "3          Bogor        NaN        NaN     NaN      NaN     NaN     NaN  \n",
              "4          Bogor        NaN        NaN     NaN      NaN     NaN     NaN  \n",
              "...          ...        ...        ...     ...      ...     ...     ...  \n",
              "2914  Yogyakarta        NaN        NaN     NaN      NaN     NaN     NaN  \n",
              "2915  Yogyakarta        NaN        NaN     NaN      NaN     NaN     NaN  \n",
              "2916  Yogyakarta        NaN        NaN     NaN      NaN     NaN     NaN  \n",
              "2917  Yogyakarta        NaN        NaN     NaN      NaN     NaN     NaN  \n",
              "2918  Yogyakarta        NaN        NaN     NaN      NaN     NaN     NaN  \n",
              "\n",
              "[2919 rows x 22 columns]"
            ]
          },
          "execution_count": 13,
          "metadata": {},
          "output_type": "execute_result"
        }
      ],
      "source": [
        "df_merged"
      ]
    },
    {
      "cell_type": "code",
      "execution_count": null,
      "metadata": {
        "id": "EpnAK2Obe4C6"
      },
      "outputs": [],
      "source": [
        "df_merged['kt']=df_merged['kt'].replace('-', np.NaN)\n",
        "df_merged['carport']=df_merged['carport'].replace('-', np.NaN)\n",
        "df_merged['km']=df_merged['km'].replace('-', np.NaN)\n",
        "df_merged['garasi']=df_merged['garasi'].replace('-', np.NaN)\n",
        "df_merged['listrik']=df_merged['listrik'].replace('-', np.NaN)\n",
        "df_merged['url']=df_merged['url'].replace('-', np.NaN)\n",
        "df_merged['deskripsi']=df_merged['deskripsi'].replace('-', np.NaN)"
      ]
    },
    {
      "cell_type": "code",
      "execution_count": null,
      "metadata": {
        "id": "dNdvit_se6sz"
      },
      "outputs": [],
      "source": [
        "df_merged['sertifikat']=df_merged['sertifikat'].replace('-', np.NaN)\n",
        "df_merged['sertifikat']=df_merged['sertifikat'].replace('SHM + IMB', \"SHM\")\n",
        "df_merged['sertifikat']=df_merged['sertifikat'].replace('SHM - IMB', \"SHM\")\n",
        "df_merged['sertifikat']=df_merged['sertifikat'].replace('SHM ', \"SHM\")\n",
        "df_merged['sertifikat']=df_merged['sertifikat'].replace('HGB', \"SHGB\")\n",
        "df_merged['sertifikat']=df_merged['sertifikat'].replace('PPJB,Girik,Adat,dll', \"PPJB\")\n",
        "df_merged['sertifikat']=df_merged['sertifikat'].replace('PPJB', \"PPJB\")\n",
        "df_merged['sertifikat']=df_merged['sertifikat'].replace('lainnya(PPJB, GIRIK, ADAT, dll)', \"Lainnya\")\n",
        "df_merged['sertifikat']=df_merged['sertifikat'].replace('SHBG', \"SHGB\")\n",
        "df_merged['sertifikat']=df_merged['sertifikat'].replace('SHM + IMB + PBB', \"SHM\")"
      ]
    },
    {
      "cell_type": "code",
      "execution_count": null,
      "metadata": {
        "id": "SpoZDR-hfFE6"
      },
      "outputs": [],
      "source": [
        "df_merged=df_merged.drop(columns=['hadap','lt(m²)','lb(m²)','lt (m2)','lb (m2)','deskripsi ','harga (rp)','unnamed: 14'])"
      ]
    },
    {
      "cell_type": "code",
      "execution_count": null,
      "metadata": {
        "colab": {
          "base_uri": "https://localhost:8080/"
        },
        "id": "O4ltS16Vf9xT",
        "outputId": "272e5410-7d00-402d-cabf-2de0c014e736"
      },
      "outputs": [
        {
          "data": {
            "text/plain": [
              "created_at     0.616650\n",
              "lt             0.582391\n",
              "lb             0.650908\n",
              "kt             0.685166\n",
              "km             0.753683\n",
              "garasi        36.656389\n",
              "carport       19.630010\n",
              "lokasi         0.616650\n",
              "sertifikat     0.924974\n",
              "listrik        8.290510\n",
              "harga          0.685166\n",
              "url            0.719424\n",
              "deskripsi     21.582734\n",
              "wilayah        0.000000\n",
              "dtype: float64"
            ]
          },
          "execution_count": 17,
          "metadata": {},
          "output_type": "execute_result"
        }
      ],
      "source": [
        "df_merged.isnull().mean() * 100"
      ]
    },
    {
      "cell_type": "code",
      "execution_count": null,
      "metadata": {
        "id": "xB-IIPOYf_f9"
      },
      "outputs": [],
      "source": [
        "df_merged=df_merged.dropna().reset_index(drop=True)"
      ]
    },
    {
      "cell_type": "code",
      "execution_count": null,
      "metadata": {
        "id": "qKlrGugsgAtg"
      },
      "outputs": [],
      "source": [
        "df_merged['lokasi'] = df_merged['lokasi'].apply(str.lower)"
      ]
    },
    {
      "cell_type": "code",
      "execution_count": null,
      "metadata": {
        "colab": {
          "base_uri": "https://localhost:8080/"
        },
        "id": "lEd3f1rFgGOq",
        "outputId": "60517774-8f7a-401b-aa7e-13c20386f598"
      },
      "outputs": [
        {
          "data": {
            "text/plain": [
              "created_at     object\n",
              "lt             object\n",
              "lb            float64\n",
              "kt            float64\n",
              "km            float64\n",
              "garasi        float64\n",
              "carport       float64\n",
              "lokasi         object\n",
              "sertifikat     object\n",
              "listrik        object\n",
              "harga          object\n",
              "url            object\n",
              "deskripsi      object\n",
              "wilayah        object\n",
              "dtype: object"
            ]
          },
          "execution_count": 20,
          "metadata": {},
          "output_type": "execute_result"
        }
      ],
      "source": [
        "df_merged.dtypes"
      ]
    },
    {
      "cell_type": "code",
      "execution_count": null,
      "metadata": {
        "colab": {
          "base_uri": "https://localhost:8080/"
        },
        "id": "sNRDGd2ogJS5",
        "outputId": "af19e2fe-6c5b-4312-8b89-502fdea28f99"
      },
      "outputs": [
        {
          "name": "stderr",
          "output_type": "stream",
          "text": [
            "<ipython-input-21-038aac23434e>:3: SettingWithCopyWarning: \n",
            "A value is trying to be set on a copy of a slice from a DataFrame\n",
            "\n",
            "See the caveats in the documentation: https://pandas.pydata.org/pandas-docs/stable/user_guide/indexing.html#returning-a-view-versus-a-copy\n",
            "  df_merged['harga'][i] = ''.join(filter(str.isdigit, df_merged['harga'][i]))\n"
          ]
        }
      ],
      "source": [
        "for i in range(len(df_merged['harga'])):\n",
        "  if type(df_merged['harga'][i]) == str:\n",
        "    df_merged['harga'][i] = ''.join(filter(str.isdigit, df_merged['harga'][i]))"
      ]
    },
    {
      "cell_type": "code",
      "execution_count": null,
      "metadata": {
        "id": "7zSGsktpgMxs"
      },
      "outputs": [],
      "source": [
        "df_merged['lt'] = df_merged['lt'].astype('float64')\n",
        "df_merged['lb'] = df_merged['lb'].astype('float64')\n",
        "df_merged['kt'] = df_merged['kt'].astype('float64')\n",
        "df_merged['km'] = df_merged['km'].astype('float64')\n",
        "df_merged['garasi'] = df_merged['garasi'].astype('float64')\n",
        "df_merged['carport'] = df_merged['carport'].astype('float64')\n",
        "df_merged['harga'] = df_merged['harga'].astype('float64')\n",
        "df_merged['sertifikat'] = df_merged['sertifikat'].astype('category')"
      ]
    },
    {
      "cell_type": "code",
      "execution_count": null,
      "metadata": {
        "colab": {
          "base_uri": "https://localhost:8080/"
        },
        "id": "pwSsPb7-cto3",
        "outputId": "b1c7a11e-a852-4f15-cc13-2b0e4e89194c"
      },
      "outputs": [
        {
          "name": "stderr",
          "output_type": "stream",
          "text": [
            "<ipython-input-23-018b50c30e5f>:3: SettingWithCopyWarning: \n",
            "A value is trying to be set on a copy of a slice from a DataFrame\n",
            "\n",
            "See the caveats in the documentation: https://pandas.pydata.org/pandas-docs/stable/user_guide/indexing.html#returning-a-view-versus-a-copy\n",
            "  df_merged[\"harga\"][i]=df_merged[\"harga\"][i]*1000000\n"
          ]
        }
      ],
      "source": [
        "for i in range(len(df_merged)):\n",
        "  if df_merged[\"harga\"][i]<=500000:\n",
        "    df_merged[\"harga\"][i]=df_merged[\"harga\"][i]*1000000"
      ]
    },
    {
      "cell_type": "code",
      "execution_count": null,
      "metadata": {
        "id": "BK7z2kcCgWY5"
      },
      "outputs": [],
      "source": [
        "df_merged = df_merged.drop_duplicates().reset_index(drop=True)"
      ]
    },
    {
      "cell_type": "code",
      "execution_count": null,
      "metadata": {
        "colab": {
          "base_uri": "https://localhost:8080/",
          "height": 462
        },
        "id": "puj1zmdygdPZ",
        "outputId": "b0de955a-3ebf-4143-b513-8e6c39ba20e1"
      },
      "outputs": [
        {
          "data": {
            "text/plain": [
              "<Axes: >"
            ]
          },
          "execution_count": 25,
          "metadata": {},
          "output_type": "execute_result"
        },
        {
          "data": {
            "image/png": "[encoded data removed]",
            "text/plain": [
              "<Figure size 640x480 with 1 Axes>"
            ]
          },
          "metadata": {},
          "output_type": "display_data"
        }
      ],
      "source": [
        "df_merged.boxplot()"
      ]
    },
    {
      "cell_type": "code",
      "execution_count": null,
      "metadata": {
        "colab": {
          "base_uri": "https://localhost:8080/"
        },
        "id": "KRef4yQDgmM5",
        "outputId": "8b2bde45-c5b5-4457-aad0-dc93d9b228df"
      },
      "outputs": [
        {
          "name": "stdout",
          "output_type": "stream",
          "text": [
            "(array([640]),)\n"
          ]
        }
      ],
      "source": [
        "print(np.where(df_merged['harga']>70000000000))"
      ]
    },
    {
      "cell_type": "code",
      "execution_count": null,
      "metadata": {
        "colab": {
          "base_uri": "https://localhost:8080/",
          "height": 53
        },
        "id": "zWUXCrAtgo1M",
        "outputId": "2d883441-2f9b-49fe-962f-bd5f4f192808"
      },
      "outputs": [
        {
          "data": {
            "application/vnd.google.colaboratory.intrinsic+json": {
              "type": "string"
            },
            "text/plain": [
              "'https://rumahdijual.com/jakarta-pusat/6519312-rumah-murah-di-menteng-jakarta-pusat.html'"
            ]
          },
          "execution_count": 27,
          "metadata": {},
          "output_type": "execute_result"
        }
      ],
      "source": [
        "df_merged.iloc[640,11]"
      ]
    },
    {
      "cell_type": "code",
      "execution_count": null,
      "metadata": {
        "id": "3oVrFxL8iCYi"
      },
      "outputs": [],
      "source": [
        "df_merged = df_merged.drop(df_merged.index[640]).reset_index(drop=True)"
      ]
    },
    {
      "cell_type": "code",
      "execution_count": null,
      "metadata": {
        "colab": {
          "base_uri": "https://localhost:8080/"
        },
        "id": "KSTbUDxlgydn",
        "outputId": "942b61f8-ae03-40e8-b009-c8e0523f08a3"
      },
      "outputs": [
        {
          "name": "stdout",
          "output_type": "stream",
          "text": [
            "(array([378, 379, 411, 629, 630, 640, 645, 809]),)\n"
          ]
        }
      ],
      "source": [
        "print(np.where(df_merged['harga']>30000000000))"
      ]
    },
    {
      "cell_type": "code",
      "execution_count": null,
      "metadata": {
        "colab": {
          "base_uri": "https://localhost:8080/",
          "height": 35
        },
        "id": "TawkFx4phQv4",
        "outputId": "5fed4aaf-4226-4ddd-dc13-d0b9ecfe1a23"
      },
      "outputs": [
        {
          "data": {
            "application/vnd.google.colaboratory.intrinsic+json": {
              "type": "string"
            },
            "text/plain": [
              "'https://www.rumah123.com/properti/medan/hos14692764/'"
            ]
          },
          "execution_count": 30,
          "metadata": {},
          "output_type": "execute_result"
        }
      ],
      "source": [
        "df_merged.iloc[810,11]"
      ]
    },
    {
      "cell_type": "code",
      "execution_count": null,
      "metadata": {
        "colab": {
          "base_uri": "https://localhost:8080/",
          "height": 35
        },
        "id": "r2RFvMfHhSJV",
        "outputId": "720a630e-385c-487a-b634-fdde6e90f2e9"
      },
      "outputs": [
        {
          "data": {
            "application/vnd.google.colaboratory.intrinsic+json": {
              "type": "string"
            },
            "text/plain": [
              "'https://rumahdijual.com/8801692'"
            ]
          },
          "execution_count": 31,
          "metadata": {},
          "output_type": "execute_result"
        }
      ],
      "source": [
        "df_merged.iloc[646,11]"
      ]
    },
    {
      "cell_type": "code",
      "execution_count": null,
      "metadata": {
        "colab": {
          "base_uri": "https://localhost:8080/",
          "height": 53
        },
        "id": "ewMSn234hYMJ",
        "outputId": "08e6bdff-bb20-4475-eb30-318f0c79d326"
      },
      "outputs": [
        {
          "data": {
            "application/vnd.google.colaboratory.intrinsic+json": {
              "type": "string"
            },
            "text/plain": [
              "'https://www.rumah.com/listing-properti/dijual-rumah-bangunan-baru-di-kalideres-permai-cengkareng-jakarta-barat-oleh-fransisca-ferra-jong-19021419'"
            ]
          },
          "execution_count": 32,
          "metadata": {},
          "output_type": "execute_result"
        }
      ],
      "source": [
        "df_merged.iloc[641,11]"
      ]
    },
    {
      "cell_type": "code",
      "execution_count": null,
      "metadata": {
        "id": "J_gsWFdAiOea"
      },
      "outputs": [],
      "source": [
        "df_merged = df_merged.drop(df_merged.index[641]).reset_index(drop=True)"
      ]
    },
    {
      "cell_type": "code",
      "execution_count": null,
      "metadata": {
        "colab": {
          "base_uri": "https://localhost:8080/",
          "height": 53
        },
        "id": "w_BKpdWIhcvF",
        "outputId": "3489b46b-675a-40ee-a547-52b26c4169b8"
      },
      "outputs": [
        {
          "data": {
            "application/vnd.google.colaboratory.intrinsic+json": {
              "type": "string"
            },
            "text/plain": [
              "'https://www.rumah.com/listing-properti/dijual-dijual-rumah-mewah-di-menteng-oleh-resmi-chandra-16657618'"
            ]
          },
          "execution_count": 34,
          "metadata": {},
          "output_type": "execute_result"
        }
      ],
      "source": [
        "df_merged.iloc[630,11]"
      ]
    },
    {
      "cell_type": "code",
      "execution_count": null,
      "metadata": {
        "colab": {
          "base_uri": "https://localhost:8080/",
          "height": 53
        },
        "id": "1J97zA9NhjPB",
        "outputId": "dcaae448-9a29-4bfe-939e-4cd2e252d331"
      },
      "outputs": [
        {
          "data": {
            "application/vnd.google.colaboratory.intrinsic+json": {
              "type": "string"
            },
            "text/plain": [
              "'https://www.rumah.com/listing-properti/dijual-rumah-mewah-konsep-bintang-5-di-ring-1-menteng-oleh-efendi-tobing-18430678'"
            ]
          },
          "execution_count": 35,
          "metadata": {},
          "output_type": "execute_result"
        }
      ],
      "source": [
        "df_merged.iloc[629,11]"
      ]
    },
    {
      "cell_type": "code",
      "execution_count": null,
      "metadata": {
        "colab": {
          "base_uri": "https://localhost:8080/",
          "height": 53
        },
        "id": "VvN9a7d-hohV",
        "outputId": "e566f382-3db1-4664-87f2-38dac2937178"
      },
      "outputs": [
        {
          "data": {
            "application/vnd.google.colaboratory.intrinsic+json": {
              "type": "string"
            },
            "text/plain": [
              "'https://www.rumah.com/listing-properti/dijual-dijual-rumah-bagus-di-sayap-dago-bandung-oleh-toni-lee-21431018'"
            ]
          },
          "execution_count": 36,
          "metadata": {},
          "output_type": "execute_result"
        }
      ],
      "source": [
        "df_merged.iloc[411,11]"
      ]
    },
    {
      "cell_type": "code",
      "execution_count": null,
      "metadata": {
        "colab": {
          "base_uri": "https://localhost:8080/",
          "height": 35
        },
        "id": "EqJd48lxiTB2",
        "outputId": "d0092732-7703-4f1b-d324-95d08f5acf17"
      },
      "outputs": [
        {
          "data": {
            "application/vnd.google.colaboratory.intrinsic+json": {
              "type": "string"
            },
            "text/plain": [
              "'https://www.rumah123.com/properti/bandung/hos14770662/'"
            ]
          },
          "execution_count": 37,
          "metadata": {},
          "output_type": "execute_result"
        }
      ],
      "source": [
        "df_merged.iloc[379,11]"
      ]
    },
    {
      "cell_type": "code",
      "execution_count": null,
      "metadata": {
        "colab": {
          "base_uri": "https://localhost:8080/"
        },
        "id": "a_hLdev6ibdH",
        "outputId": "5c0a4a14-1785-4201-f200-5fde6686306c"
      },
      "outputs": [
        {
          "data": {
            "text/plain": [
              "31000000000.0"
            ]
          },
          "execution_count": 38,
          "metadata": {},
          "output_type": "execute_result"
        }
      ],
      "source": [
        "df_merged.iloc[379,10]"
      ]
    },
    {
      "cell_type": "code",
      "execution_count": null,
      "metadata": {
        "id": "g_nHa4W9ijO_"
      },
      "outputs": [],
      "source": [
        "df_merged.iloc[379,10]=3100000000"
      ]
    },
    {
      "cell_type": "code",
      "execution_count": null,
      "metadata": {
        "colab": {
          "base_uri": "https://localhost:8080/",
          "height": 35
        },
        "id": "EAGiaunBiTUn",
        "outputId": "42b3a77c-1519-4dc9-b33f-0a792cde194c"
      },
      "outputs": [
        {
          "data": {
            "application/vnd.google.colaboratory.intrinsic+json": {
              "type": "string"
            },
            "text/plain": [
              "'https://www.rumah123.com/properti/bandung/hos14770674/#'"
            ]
          },
          "execution_count": 40,
          "metadata": {},
          "output_type": "execute_result"
        }
      ],
      "source": [
        "df_merged.iloc[378,11]"
      ]
    },
    {
      "cell_type": "code",
      "execution_count": null,
      "metadata": {
        "id": "rjB3jI0niyYx"
      },
      "outputs": [],
      "source": [
        "df_merged.iloc[378,10]=5500000000"
      ]
    },
    {
      "cell_type": "code",
      "execution_count": null,
      "metadata": {
        "colab": {
          "base_uri": "https://localhost:8080/"
        },
        "id": "Yh9ICnl-i47U",
        "outputId": "68fb124f-8c2c-494f-bab5-15812b1055e6"
      },
      "outputs": [
        {
          "name": "stdout",
          "output_type": "stream",
          "text": [
            "(array([398, 411, 629, 630, 635, 640, 644, 808, 990]),)\n"
          ]
        }
      ],
      "source": [
        "print(np.where(df_merged['harga']>20000000000))"
      ]
    },
    {
      "cell_type": "code",
      "execution_count": null,
      "metadata": {
        "colab": {
          "base_uri": "https://localhost:8080/",
          "height": 35
        },
        "id": "PAJIfVXKi-0y",
        "outputId": "f6be6079-ef4d-4aa5-8a7f-8b6ce6c95d8d"
      },
      "outputs": [
        {
          "data": {
            "application/vnd.google.colaboratory.intrinsic+json": {
              "type": "string"
            },
            "text/plain": [
              "'https://www.brighton.co.id/cari-properti/view/jl-puri-anjasmoro-xomy'"
            ]
          },
          "execution_count": 43,
          "metadata": {},
          "output_type": "execute_result"
        }
      ],
      "source": [
        "df_merged.iloc[990,11]"
      ]
    },
    {
      "cell_type": "code",
      "execution_count": null,
      "metadata": {
        "colab": {
          "base_uri": "https://localhost:8080/",
          "height": 53
        },
        "id": "8tZjOl1jjBEt",
        "outputId": "4b3a95f5-9551-4f48-a01f-a7081b14e25a"
      },
      "outputs": [
        {
          "data": {
            "application/vnd.google.colaboratory.intrinsic+json": {
              "type": "string"
            },
            "text/plain": [
              "'https://rumahdijual.com/jakarta-pusat/11761983-dijual-rumah-jl-cirebon-menteng-jakarta-pusat.html'"
            ]
          },
          "execution_count": 44,
          "metadata": {},
          "output_type": "execute_result"
        }
      ],
      "source": [
        "df_merged.iloc[640,11]"
      ]
    },
    {
      "cell_type": "code",
      "execution_count": null,
      "metadata": {
        "id": "i1M8i2nMjYcT"
      },
      "outputs": [],
      "source": [
        "df_merged = df_merged.drop(df_merged.index[640]).reset_index(drop=True)"
      ]
    },
    {
      "cell_type": "code",
      "execution_count": null,
      "metadata": {
        "colab": {
          "base_uri": "https://localhost:8080/",
          "height": 53
        },
        "id": "bGT77mvejBhT",
        "outputId": "b5d17b5d-e25c-431f-df43-89fd74ef05db"
      },
      "outputs": [
        {
          "data": {
            "application/vnd.google.colaboratory.intrinsic+json": {
              "type": "string"
            },
            "text/plain": [
              "'https://rumahdijual.com/tebet/10851049-rmh-mewah-2-lt-siap-huni-semi-furnish-bbs.html'"
            ]
          },
          "execution_count": 46,
          "metadata": {},
          "output_type": "execute_result"
        }
      ],
      "source": [
        "df_merged.iloc[635,11]"
      ]
    },
    {
      "cell_type": "code",
      "execution_count": null,
      "metadata": {
        "id": "DkXTjx6OjbS7"
      },
      "outputs": [],
      "source": [
        "df_merged = df_merged.drop(df_merged.index[635]).reset_index(drop=True)"
      ]
    },
    {
      "cell_type": "code",
      "execution_count": null,
      "metadata": {
        "colab": {
          "base_uri": "https://localhost:8080/",
          "height": 35
        },
        "id": "Lh5E2hq3jeuS",
        "outputId": "9d81c0d6-20ee-4076-e915-dbb0639bb211"
      },
      "outputs": [
        {
          "data": {
            "application/vnd.google.colaboratory.intrinsic+json": {
              "type": "string"
            },
            "text/plain": [
              "'https://www.rumah123.com/properti/bandung/hos14549985/'"
            ]
          },
          "execution_count": 48,
          "metadata": {},
          "output_type": "execute_result"
        }
      ],
      "source": [
        "df_merged.iloc[398,11]"
      ]
    },
    {
      "cell_type": "code",
      "execution_count": null,
      "metadata": {
        "colab": {
          "base_uri": "https://localhost:8080/"
        },
        "id": "QetGRIaGj-aC",
        "outputId": "0b9c1495-d696-4872-d361-60d7610b7741"
      },
      "outputs": [
        {
          "data": {
            "text/plain": [
              "created_at    0.0\n",
              "lt            0.0\n",
              "lb            0.0\n",
              "kt            0.0\n",
              "km            0.0\n",
              "garasi        0.0\n",
              "carport       0.0\n",
              "lokasi        0.0\n",
              "sertifikat    0.0\n",
              "listrik       0.0\n",
              "harga         0.0\n",
              "url           0.0\n",
              "deskripsi     0.0\n",
              "wilayah       0.0\n",
              "dtype: float64"
            ]
          },
          "execution_count": 49,
          "metadata": {},
          "output_type": "execute_result"
        }
      ],
      "source": [
        "df_merged.isnull().mean() * 100"
      ]
    },
    {
      "cell_type": "code",
      "execution_count": null,
      "metadata": {
        "colab": {
          "base_uri": "https://localhost:8080/"
        },
        "id": "lAI1DyR0kQOh",
        "outputId": "a5a570d2-f18d-406a-83ce-15abedbca6f6"
      },
      "outputs": [
        {
          "data": {
            "text/plain": [
              "0"
            ]
          },
          "execution_count": 50,
          "metadata": {},
          "output_type": "execute_result"
        }
      ],
      "source": [
        "df_merged.duplicated().sum()"
      ]
    },
    {
      "cell_type": "code",
      "execution_count": null,
      "metadata": {
        "id": "VzAnLngEkSfc"
      },
      "outputs": [],
      "source": [
        "df_merged.to_csv('Data_Preprocessed Kel. 4.csv')"
      ]
    },
    {
      "cell_type": "markdown",
      "metadata": {
        "id": "-3eTffaHfOAo"
      },
      "source": [
        "##EDA"
      ]
    },
    {
      "cell_type": "markdown",
      "metadata": {
        "id": "4HR8-Xw6e9No"
      },
      "source": [
        "No. 1 Kualitas data yang dimiliki perusahaan"
      ]
    },
    {
      "cell_type": "markdown",
      "metadata": {
        "id": "jmZxNTs3ffR2"
      },
      "source": [
        "Kami menyimpulkan bahwa kualitas data yang dimiliki perusahaan masih kurang baik. Data yang dimiliki masih memiliki banyak missing values, khususnya pada kolom variabel \"hadap\". Selain itu, terdapat banyak noise pada data, seperti terdapat tanda \"-\". Hal ini cukup menganggu dalam proses analisis data. Data yang dimiliki juga masih terpisah-pisah berdasarkan daerah, sehingga perlu digabungkan terlebih dahulu. Terdapat juga kolom carport dan garasi yang kurang lebih sama."
      ]
    },
    {
      "cell_type": "markdown",
      "metadata": {
        "id": "nhI4fFWVfIj1"
      },
      "source": [
        "No. 2 Apakah ada saran perbaikan data ke DE/DBA perusahaan agar RPPI menjadi data driven company yang unggul."
      ]
    },
    {
      "cell_type": "markdown",
      "metadata": {
        "id": "Q0sKwq0AW0To"
      },
      "source": [
        "Agar dapat menjadi data driven company yang unggul, dapat dilakukan hal-hal berikut:\n",
        "1. Membersihkan data yang ada, seperti menghapus kolom yang tidak dibutuhkan dan membersihkan missing value\n",
        "2. Mengoreksi tipe variabel data yang kurang tepat\n",
        "3. Data di merge terlebih dahulu sehingga mempermudah analisis data\n",
        "4. Nama kolom yang ada tidak menggunakan singkatan sehingga mempermudah pemahaman tentang kolom yang ada\n",
        "5. Memperjelas kolom deskripsi dengan membuat kolom yang baru, seperti jarak ke transportasi umum terdekat dan jarak ke tol terdekat yang cukup menjadi pertimbangan konsumen dalam membeli properti"
      ]
    },
    {
      "cell_type": "markdown",
      "metadata": {
        "id": "Ms4TJO8MxWZ_"
      },
      "source": [
        "No. 3\n",
        "Dari data yang ada, apakah ada kecenderungan rumah disuatu kota lebih mahal/murah dibandingkan kota lain?\n",
        "-> Akan disajikan visualisasi dalam bentuk boxplot dan scatter plot"
      ]
    },
    {
      "cell_type": "code",
      "execution_count": null,
      "metadata": {
        "colab": {
          "base_uri": "https://localhost:8080/",
          "height": 435
        },
        "id": "qzFh8Bcxkhyf",
        "outputId": "3caada83-a908-40a2-f63c-bac97f00caaa"
      },
      "outputs": [
        {
          "data": {
            "image/png": "[encoded data removed]",
            "text/plain": [
              "<Figure size 1200x800 with 1 Axes>"
            ]
          },
          "metadata": {},
          "output_type": "display_data"
        }
      ],
      "source": [
        "data_by_region = [df_merged[df_merged['wilayah'] == region]['harga'].tolist() for region in df_merged['wilayah'].unique()]\n",
        "\n",
        "plt.figure(figsize=(12, 8))\n",
        "\n",
        "plt.boxplot(data_by_region,\n",
        "            labels=df_merged['wilayah'].unique(),\n",
        "            # Display boxplots horizontally\n",
        "            vert=False,\n",
        "            patch_artist=True,  # Enable filling of boxes with color\n",
        "            widths=0.7)  # Adjust box width for better visibility\n",
        "\n",
        "plt.title('Persebarah Harga Rumah berdasarkan Wilayah (Boxplot)')\n",
        "plt.xlabel('Wilayah')\n",
        "plt.ylabel('Harga')\n",
        "plt.xticks(rotation=45, ha='right')\n",
        "plt.grid(True, linestyle='--', alpha=0.7)\n",
        "plt.tight_layout()\n",
        "plt.show()"
      ]
    },
    {
      "cell_type": "code",
      "execution_count": null,
      "metadata": {
        "colab": {
          "base_uri": "https://localhost:8080/",
          "height": 486
        },
        "id": "AdViIFvdyAk8",
        "outputId": "734d0310-bd59-450a-a01e-e8b3f40ad5f5"
      },
      "outputs": [
        {
          "data": {
            "image/png": "[encoded data removed]",
            "text/plain": [
              "<Figure size 640x480 with 1 Axes>"
            ]
          },
          "metadata": {},
          "output_type": "display_data"
        }
      ],
      "source": [
        "data_by_region = [df_merged[df_merged['wilayah'] == region]['harga'].tolist() for region in df_merged['wilayah'].unique()]\n",
        "mean_prices = df_merged.groupby('wilayah')['harga'].mean()\n",
        "mean_prices_df = pd.DataFrame({'wilayah': mean_prices.index, 'mean_harga': mean_prices.values})\n",
        "\n",
        "plt.scatter(mean_prices_df['wilayah'], mean_prices_df['mean_harga'], color='blue', label='Rata-rata Harga Rumah')\n",
        "plt.title('Rata-rata Harga Rumah berdasarkan Wilayah')\n",
        "plt.xlabel('Wilayah')\n",
        "plt.ylabel('Rata-rata Harga Rumah')\n",
        "plt.xticks(mean_prices_df['wilayah'])\n",
        "plt.xticks(rotation=45, ha='right')\n",
        "plt.legend()\n",
        "\n",
        "plt.tight_layout()\n",
        "plt.show()"
      ]
    },
    {
      "cell_type": "markdown",
      "metadata": {
        "id": "_m5N_1ackiAY"
      },
      "source": [
        "Dapat dilihat bahwa terdapat kecendurungan harga property yang lebih tinggi di kota Surabaya ketimbang kota yang lain. Sebagai informasi tambahan, property di Surabaya diduga lebih mahal karena tidak adanya lagi lahan untuk pembangunan rumah. (sumber: https://www.suarasurabaya.net/kelanakota/2022/kehabisan-lahan-sampai-pajak-naik-penyebab-harga-rumah-di-surabaya-setinggi-langit/#:~:text=Penyebab%20tingginya%20harga%20rumah%20di,maka%20pemukiman%20harus%20ke%20atas.)\n",
        "Selain itu, dari visualisasi juga dapat kita lihat bahwa kota dengan harga property paling rendah adalah kota Bekasi."
      ]
    },
    {
      "cell_type": "markdown",
      "metadata": {
        "id": "iWSW5RI4yEiv"
      },
      "source": [
        "No. 4\n",
        "Dari data yang ada, apakah bisa dibuat rekomendasi sebaiknya RPPI membuat kantor cabang berikutnya di kota mana? Mengapa? (Asumsikan RPPI belum memiliki cabang di kota-kota yang disebutkan di data)"
      ]
    },
    {
      "cell_type": "code",
      "execution_count": null,
      "metadata": {
        "colab": {
          "base_uri": "https://localhost:8080/",
          "height": 494
        },
        "id": "pzoPVVeayJjT",
        "outputId": "10c6c441-5521-467a-f167-d75c11dbe887"
      },
      "outputs": [
        {
          "data": {
            "image/png": "[encoded data removed]",
            "text/plain": [
              "<Figure size 1000x600 with 1 Axes>"
            ]
          },
          "metadata": {},
          "output_type": "display_data"
        }
      ],
      "source": [
        "#jumlah rumah yang dijual berdasarkan kawasan\n",
        "jumlah_rumah_per_kawasan = df_merged['wilayah'].value_counts()\n",
        "\n",
        "# Buat plot\n",
        "jumlah_rumah_per_kawasan.plot(kind='bar', figsize=(10, 6), color='skyblue', edgecolor='black')\n",
        "plt.title('Jumlah Rumah yang Dijual per Wilayah')\n",
        "plt.xlabel('Wilayah')\n",
        "plt.ylabel('Jumlah Rumah')\n",
        "plt.xticks(rotation=45, ha='right')\n",
        "\n",
        "#labels\n",
        "for index, value in enumerate(jumlah_rumah_per_kawasan):\n",
        "    plt.text(index, value + 0.1, str(value), ha='center', va='bottom')\n",
        "\n",
        "plt.show()"
      ]
    },
    {
      "cell_type": "markdown",
      "metadata": {
        "id": "9dmqWlCSm8_q"
      },
      "source": [
        "Dari data yang ada, RPPI disarankan untuk membuat kantor cabang di kota dengan penjualan rumah tertinggi, yaitu kota Bogor. Berdasarkan boxplot juga dapat dilihat bahwa kota Bogor cenderung lebih murah. Sehingga dengan membuat kantor cabang di kota Bogor, dapat mempermudah RPPI untuk melakukan pengawasan."
      ]
    },
    {
      "cell_type": "markdown",
      "metadata": {
        "id": "3iqiCEHfzGQh"
      },
      "source": [
        "No. 5\n",
        "Rumah dengan karakteristik seperti apa yang paling banyak dijual?"
      ]
    },
    {
      "cell_type": "code",
      "execution_count": null,
      "metadata": {
        "colab": {
          "base_uri": "https://localhost:8080/",
          "height": 445
        },
        "id": "zynnpnPjzHf5",
        "outputId": "d8df4179-52e2-4d35-c18a-981c71eab245"
      },
      "outputs": [
        {
          "data": {
            "image/png": "[encoded data removed]",
            "text/plain": [
              "<Figure size 1000x600 with 1 Axes>"
            ]
          },
          "metadata": {},
          "output_type": "display_data"
        }
      ],
      "source": [
        "#no 5\n",
        "jml_kt = df_merged['kt'].value_counts()\n",
        "\n",
        "# Buat plot\n",
        "jml_kt.plot(kind='bar', figsize=(10, 6), color='skyblue', edgecolor='black')\n",
        "plt.title('Jumlah Rumah berdasarkan Jumlah Kamar Tidur')\n",
        "plt.xlabel('Kamar Tidur')\n",
        "plt.xticks(rotation=45, ha='right')\n",
        "\n",
        "#labels\n",
        "for index, value in enumerate(jml_kt):\n",
        "    plt.text(index, value + 0.1, str(value), ha='center', va='bottom')\n",
        "\n",
        "plt.show()"
      ]
    },
    {
      "cell_type": "markdown",
      "metadata": {
        "id": "L9OT8sNTr491"
      },
      "source": [
        "Rumah dengan jumlah kamar tidur 2 menjadi penjualan rumah dengan jumlah kamar tidur terbanyak."
      ]
    },
    {
      "cell_type": "code",
      "execution_count": null,
      "metadata": {
        "colab": {
          "base_uri": "https://localhost:8080/",
          "height": 445
        },
        "id": "eif7VHX10XjT",
        "outputId": "df406b81-9df3-47ac-fd80-e0b739f64fff"
      },
      "outputs": [
        {
          "data": {
            "image/png": "[encoded data removed]",
            "text/plain": [
              "<Figure size 1000x600 with 1 Axes>"
            ]
          },
          "metadata": {},
          "output_type": "display_data"
        }
      ],
      "source": [
        "#no 5\n",
        "jml_km = df_merged['km'].value_counts()\n",
        "\n",
        "# Buat plot\n",
        "jml_kt.plot(kind='bar', figsize=(10, 6), color='skyblue', edgecolor='black')\n",
        "plt.title('Jumlah Rumah berdasarkan Jumlah Kamar Mandi')\n",
        "plt.xlabel('Kamar Mandi')\n",
        "plt.xticks(rotation=45, ha='right')\n",
        "\n",
        "#labels\n",
        "for index, value in enumerate(jml_kt):\n",
        "    plt.text(index, value + 0.1, str(value), ha='center', va='bottom')\n",
        "\n",
        "plt.show()"
      ]
    },
    {
      "cell_type": "markdown",
      "metadata": {
        "id": "KfDTQeWKsPQU"
      },
      "source": [
        "Rumah dengan jumlah kamar mandi 2 menjadi penjualan rumah dengan jumlah kamar mandi terbanyak."
      ]
    },
    {
      "cell_type": "code",
      "execution_count": null,
      "metadata": {
        "colab": {
          "base_uri": "https://localhost:8080/",
          "height": 685
        },
        "id": "jtCoF2H40gCu",
        "outputId": "4d934a89-26c4-4ec7-c7a4-4bf3d3258309"
      },
      "outputs": [
        {
          "data": {
            "image/png": "[encoded data removed]",
            "text/plain": [
              "<Figure size 800x800 with 1 Axes>"
            ]
          },
          "metadata": {},
          "output_type": "display_data"
        }
      ],
      "source": [
        "KMKT = pd.crosstab(index=df_merged[\"kt\"], columns=df_merged[\"km\"])\n",
        "p2 = KMKT.plot(kind=\"bar\", figsize=(8,8), stacked=True, title='Jumlah Kamar Tidur dan Kamar Mandi', xlabel='Kamar Tidur')"
      ]
    },
    {
      "cell_type": "markdown",
      "metadata": {
        "id": "DOjrwFeesxyA"
      },
      "source": [
        "Meskipun rumah dengan jumlah kamar tidur 2 atau rumah dengan jumlah kamar mandi 2 menjadi penjualan rumah dengan jumlah kamar tidur atau jumlah kamar mandi terbanyak, rumah dengan jumlah kamar tidur dan kamar mandi 2 menjadi penjualan rumah dengan jumlah kamar tidur dan kamar mandi terbanyak."
      ]
    },
    {
      "cell_type": "code",
      "execution_count": null,
      "metadata": {
        "colab": {
          "base_uri": "https://localhost:8080/",
          "height": 677
        },
        "id": "qk1Ydr9a0nhg",
        "outputId": "c423b63e-0c37-4015-aff5-a41780bae317"
      },
      "outputs": [
        {
          "data": {
            "image/png": "[encoded data removed]",
            "text/plain": [
              "<Figure size 800x800 with 1 Axes>"
            ]
          },
          "metadata": {},
          "output_type": "display_data"
        }
      ],
      "source": [
        "CT = pd.crosstab(index=df_merged[\"carport\"], columns=df_merged[\"garasi\"])\n",
        "p = CT.plot(kind=\"bar\", figsize=(8,8), stacked=True, title='Jumlah Carport dan Garasi')\n",
        "#ini plot jml carplot sm garasi no.5"
      ]
    },
    {
      "cell_type": "markdown",
      "metadata": {
        "id": "X94Q68XPskMw"
      },
      "source": [
        "Rumah dengan carport dan garasi 1 menjadi penjualan rumah dengan jumlah carport dan garasi terbanyak."
      ]
    },
    {
      "cell_type": "code",
      "execution_count": null,
      "metadata": {
        "colab": {
          "base_uri": "https://localhost:8080/",
          "height": 460
        },
        "id": "uuWqYYKb2hA0",
        "outputId": "f21f9bc9-296a-4e3b-d894-d2f84685f030"
      },
      "outputs": [
        {
          "data": {
            "image/png": "[encoded data removed]",
            "text/plain": [
              "<Figure size 1000x600 with 1 Axes>"
            ]
          },
          "metadata": {},
          "output_type": "display_data"
        }
      ],
      "source": [
        "rumah_sertif = df_merged['sertifikat'].value_counts()\n",
        "\n",
        "# Buat plot\n",
        "rumah_sertif.plot(kind='bar', figsize=(10, 6), color='skyblue', edgecolor='black')\n",
        "plt.title('Jumlah Rumah berdasarkan Sertifikat')\n",
        "plt.xlabel('Sertifikat')\n",
        "plt.xticks(rotation=45, ha='right')\n",
        "\n",
        "#labels\n",
        "for index, value in enumerate(rumah_sertif):\n",
        "    plt.text(index, value + 0.1, str(value), ha='center', va='bottom')\n",
        "\n",
        "plt.show()"
      ]
    },
    {
      "cell_type": "markdown",
      "metadata": {
        "id": "OewPplqHtonX"
      },
      "source": [
        "Rumah dengan sertifikat SHM menjadi penjualan rumah berdasarkan sertifikat terbanyak."
      ]
    },
    {
      "cell_type": "markdown",
      "metadata": {
        "id": "1NhrDefKzOfF"
      },
      "source": [
        "No. 6 Jika RPPI ingin melakukan investasi (max) Rp. 25 Milyar minggu besok, apakah dari data Anda dapat memberikan rekomendasi rumah mana saja yang akan berpotensi menghasilkan keuntungan bagi perusahaan?"
      ]
    },
    {
      "cell_type": "markdown",
      "metadata": {
        "id": "yKOK7Cyeuw7w"
      },
      "source": [
        "Dengan asumsi bahwa harga rumah terus naik, maka disarankan RPPI untuk melakukan investasi di kota Bogor. Kota Bogor memiliki jumlah rumah yang dijual paling banyak per wilayah serta kota Bogor juga memiliki harga cenderung murah. Diharapkan apabila tanah di kota Bogor semakin sedikit karena pembangunan, maka akan menyebabkan harga property semakin meningkat, sehingga dapat memberikan keuntungan yang maksimal."
      ]
    },
    {
      "cell_type": "markdown",
      "metadata": {
        "id": "GYvmGvWqzoyA"
      },
      "source": [
        "No.7\n",
        "Dan yang terpenting, informasi berharga apa lagi yang bisa Anda dapatkan dari data?"
      ]
    },
    {
      "cell_type": "code",
      "execution_count": null,
      "metadata": {
        "colab": {
          "base_uri": "https://localhost:8080/",
          "height": 506
        },
        "id": "yjw5vQIB4j1x",
        "outputId": "aa33e4c9-beee-4a3e-bf01-4e0cd530d96f"
      },
      "outputs": [
        {
          "output_type": "display_data",
          "data": {
            "text/plain": [
              "<Figure size 500x500 with 1 Axes>"
            ],
            "image/png": "[encoded data removed]"
          },
          "metadata": {}
        }
      ],
      "source": [
        "#no 7\n",
        "p= sns.catplot(x=\"carport\", y=\"harga\", data=df_12)"
      ]
    },
    {
      "cell_type": "markdown",
      "source": [
        "Dari data visualisasi yang kami peroleh, dapat disimpulkan bahwa sebagian besar rumah yang terjual di Surabaya memiliki beragam jumlah carport, bahkan ada yang memiliki hingga 5 carport. Hal tersebut diduga disebabkan banyak hal, salah satunya yaitu suhu ekstrim di Surabaya. Dengan adanya carport, maka kendaraan (khususnya mobil) dapat terlindungi dari kerusakan akibat sinar matahari berlebihan, hujan deras, atau cuaca ekstrem lainnya. Oleh karena itu, di kota Surabaya, rumah yang lebih diminati adalah rumah yang dilengkapi dengan carport.\n",
        "\n",
        "Selain itu, berdasarkan data visualisasi, terlihat bahwa ada rumah-rumah yang memiliki jumlah carport lebih banyak, namun tetap memiliki harga yang lebih terjangkau daripada rumah-rumah dengan jumlah garasi yang lebih sedikit."
      ],
      "metadata": {
        "id": "ysmaZnpaSJ5g"
      }
    }
  ],
  "metadata": {
    "colab": {
      "provenance": []
    },
    "kernelspec": {
      "display_name": "Python 3",
      "name": "python3"
    },
    "language_info": {
      "name": "python"
    },
    "vp": {
      "vp_note_display": false,
      "vp_note_width": 0
    }
  },
  "nbformat": 4,
  "nbformat_minor": 0
}